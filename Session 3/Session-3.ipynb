{
 "cells": [
  {
   "cell_type": "markdown",
   "metadata": {},
   "source": [
    "# Welcome To Python Training Session by Coding Club JNTUHCEH"
   ]
  },
  {
   "cell_type": "markdown",
   "metadata": {},
   "source": [
    "![Logo](../logo/X.png)"
   ]
  },
  {
   "cell_type": "markdown",
   "metadata": {},
   "source": [
    "## Session 3 - 01/01/2022"
   ]
  },
  {
   "cell_type": "markdown",
   "metadata": {},
   "source": [
    "# Chapter - 2 Flow Control"
   ]
  },
  {
   "cell_type": "markdown",
   "metadata": {},
   "source": [
    "![flow-control](images/flow-control.png)"
   ]
  },
  {
   "cell_type": "markdown",
   "metadata": {},
   "source": [
    "## 1. Conditional Control Statements"
   ]
  },
  {
   "cell_type": "markdown",
   "metadata": {},
   "source": [
    "### 1.1 What are Conditional Control Statements? And why?"
   ]
  },
  {
   "cell_type": "markdown",
   "metadata": {},
   "source": [
    "- A conditional control structure is used to execute statement(s) based on some condition. \n",
    "\n",
    "- When the condition is associated with a statement(s) that is true, only then we want to execute the related/associated statement(s) otherwise, we want to ignore/skip those statement(s). \n",
    "\n",
    "- If we want the execution of the statement(s) or skipping of the statement(s) to happen only once based on the outcome of the condition, it's preferred to use the conditional control structures. \n",
    "\n",
    "- In Python programming, indentation is the key factor.\n",
    "\n",
    "- Therefore, we need to indent the statement(s) properly."
   ]
  },
  {
   "cell_type": "markdown",
   "metadata": {},
   "source": [
    "### 1.2 Different Conditional Control Statements"
   ]
  },
  {
   "cell_type": "markdown",
   "metadata": {},
   "source": [
    "In Python Programming language, we have 4 conditional control statements - \n",
    "- simple if statement\n",
    "- if-else statement\n",
    "- if-elif-else statement\n",
    "- nested if statements"
   ]
  },
  {
   "cell_type": "markdown",
   "metadata": {},
   "source": [
    "#### 1.2.1 simple if statement"
   ]
  },
  {
   "cell_type": "markdown",
   "metadata": {},
   "source": [
    "Whenever we have a condition to be tested and we need to execute statement(s) based on a condition then we can use a simple if statement."
   ]
  },
  {
   "cell_type": "markdown",
   "metadata": {},
   "source": [
    "The syntax for a simple if statement is as follows."
   ]
  },
  {
   "cell_type": "markdown",
   "metadata": {},
   "source": [
    "if &lt;condition&gt;:<br>\n",
    "    &emsp;statement-1<br>\n",
    "    &emsp;statement-2<br>\n",
    "    &emsp;....<br>\n",
    "    &emsp;statement-n<br>\n",
    "statement-p"
   ]
  },
  {
   "cell_type": "markdown",
   "metadata": {},
   "source": [
    "- statements 1 to n are inside the if block.\n",
    "- statements 1 to n will be executed if the condition evaluates to True.\n",
    "- statements 1 to n will not be executed if the condition evaluates to False.\n",
    "- statement p will be executed regardless of what the condition evaluates to."
   ]
  },
  {
   "cell_type": "markdown",
   "metadata": {},
   "source": [
    "Let us see a flow chart to get a better understanding..."
   ]
  },
  {
   "cell_type": "markdown",
   "metadata": {},
   "source": [
    "![if](images/if.png)"
   ]
  },
  {
   "cell_type": "markdown",
   "metadata": {},
   "source": [
    "Let's see an example..."
   ]
  },
  {
   "cell_type": "code",
   "execution_count": null,
   "metadata": {},
   "outputs": [],
   "source": [
    "x = 5\n",
    "if x < 10:\n",
    "    print(f\"x = {x}\")\n",
    "    print(\"Inside the if block...\")\n",
    "\n",
    "print(\"Outside the if block...\")"
   ]
  },
  {
   "cell_type": "code",
   "execution_count": null,
   "metadata": {},
   "outputs": [],
   "source": [
    "x = 15\n",
    "if x < 10:\n",
    "    print(f\"x = {x}\")\n",
    "    print(\"Inside the if block...\")\n",
    "\n",
    "print(\"Outside the if block...\")"
   ]
  },
  {
   "cell_type": "markdown",
   "metadata": {},
   "source": [
    "One best real world example is, verifying age to check eligibility to vote.\n",
    "- Citizens below 18 years of age are not eligible to vote.\n",
    "- Citizens of age 18 and above are eligible to vote."
   ]
  },
  {
   "cell_type": "code",
   "execution_count": null,
   "metadata": {},
   "outputs": [],
   "source": [
    "# voting system\n",
    "age = int(input(\"Enter your age: \"))\n",
    "if age < 18:\n",
    "    print(\"You are not eligible to vote!!!\")\n",
    "\n",
    "print(\"Verified!!!\")"
   ]
  },
  {
   "cell_type": "markdown",
   "metadata": {},
   "source": [
    "In the above example, we have seen what happens when the condition evaluates to True (i.e age < 18).\n",
    "\n",
    "But what happens if the condition evaluates to False (i.e age >= 18)."
   ]
  },
  {
   "cell_type": "code",
   "execution_count": null,
   "metadata": {},
   "outputs": [],
   "source": [
    "# voting system\n",
    "age = int(input(\"Enter your age: \"))\n",
    "if age < 18:\n",
    "    print(\"You are not eligible to vote!!!\")\n",
    "\n",
    "print(\"Verified!!!\")"
   ]
  },
  {
   "cell_type": "markdown",
   "metadata": {},
   "source": [
    "We don't see any output that says \"You are eligible to vote!!!\"\\\n",
    "Hmm 🤔 What do we do? How to get around this situation?"
   ]
  },
  {
   "cell_type": "markdown",
   "metadata": {},
   "source": [
    "That's our segway into if-else statements."
   ]
  },
  {
   "cell_type": "markdown",
   "metadata": {},
   "source": [
    "if-else statement: allow us to introduce ourselves..."
   ]
  },
  {
   "cell_type": "markdown",
   "metadata": {},
   "source": [
    "![meme](images/meme.jpeg)"
   ]
  },
  {
   "cell_type": "markdown",
   "metadata": {},
   "source": [
    "### 1.2.2 if-else statements"
   ]
  },
  {
   "cell_type": "markdown",
   "metadata": {},
   "source": [
    "Whenever we have a situation where we want to test a condition and if the condition is true we want to execute some statement(s) and when the condition is not true we want to execute another set of statements, we must use the if-else statement."
   ]
  },
  {
   "cell_type": "markdown",
   "metadata": {},
   "source": [
    "The syntax for if-else statement is as follows."
   ]
  },
  {
   "cell_type": "markdown",
   "metadata": {},
   "source": [
    "if &lt;condition&gt;:<br>\n",
    "&emsp;statement(s)<br>\n",
    "&emsp;...<br>\n",
    "else:<br>\n",
    "&emsp;statement(s)<br>\n",
    "&emsp;...<br>\n",
    "statement(s)"
   ]
  },
  {
   "cell_type": "markdown",
   "metadata": {},
   "source": [
    "Let us see a flow chart to get a better understanding..."
   ]
  },
  {
   "cell_type": "markdown",
   "metadata": {},
   "source": [
    "![if-else](images/if-else.png)"
   ]
  },
  {
   "cell_type": "markdown",
   "metadata": {},
   "source": [
    "Let's see an example..."
   ]
  },
  {
   "cell_type": "code",
   "execution_count": null,
   "metadata": {},
   "outputs": [],
   "source": [
    "x = 10\n",
    "if x < 15:\n",
    "    print(f\"x is {x} and x < 15\")\n",
    "else:\n",
    "    print(f\"x is {x} and x >= 15\")"
   ]
  },
  {
   "cell_type": "code",
   "execution_count": null,
   "metadata": {},
   "outputs": [],
   "source": [
    "x = 20\n",
    "if x < 15:\n",
    "    print(f\"x is {x} and x < 15\")\n",
    "else:\n",
    "    print(f\"x is {x} and x >= 15\")"
   ]
  },
  {
   "cell_type": "markdown",
   "metadata": {},
   "source": [
    "Let's get back to our real world voting example..."
   ]
  },
  {
   "cell_type": "code",
   "execution_count": null,
   "metadata": {},
   "outputs": [],
   "source": [
    "# voting system\n",
    "age = int(input(\"Enter your age: \"))\n",
    "if age < 18:\n",
    "    print(\"You are not eligible to vote!!!\")\n",
    "else:\n",
    "    print(\"You are eligible to vote!!!\")\n",
    "\n",
    "print(\"Verified!!!\")"
   ]
  },
  {
   "cell_type": "markdown",
   "metadata": {},
   "source": [
    "Some more examples..."
   ]
  },
  {
   "cell_type": "markdown",
   "metadata": {},
   "source": [
    "Ex: Comparing 2 numbers to find out which one is larger."
   ]
  },
  {
   "cell_type": "code",
   "execution_count": null,
   "metadata": {},
   "outputs": [],
   "source": [
    "# a < b\n",
    "a = int(input(\"Enter value of a: \"))\n",
    "b = int(input(\"Enter value of b: \"))\n",
    "\n",
    "if a < b:\n",
    "    print(f\"a < b since a = {a} and b = {b}\")\n",
    "else:\n",
    "    print(f\"a > b since a = {a} and b = {b}\")"
   ]
  },
  {
   "cell_type": "code",
   "execution_count": null,
   "metadata": {},
   "outputs": [],
   "source": [
    "# a > b\n",
    "a = int(input(\"Enter value of a: \"))\n",
    "b = int(input(\"Enter value of b: \"))\n",
    "\n",
    "if a < b:\n",
    "    print(f\"a < b since a = {a} and b = {b}\")\n",
    "else:\n",
    "    print(f\"a > b since a = {a} and b = {b}\")"
   ]
  },
  {
   "cell_type": "markdown",
   "metadata": {},
   "source": [
    "In the above example, what happens if a == b?"
   ]
  },
  {
   "cell_type": "code",
   "execution_count": null,
   "metadata": {},
   "outputs": [],
   "source": [
    "# a == b\n",
    "a = int(input(\"Enter value of a: \"))\n",
    "b = int(input(\"Enter value of b: \"))\n",
    "\n",
    "if a < b:\n",
    "    print(f\"a < b since a = {a} and b = {b}\")\n",
    "else:\n",
    "    print(f\"a > b since a = {a} and b = {b}\")"
   ]
  },
  {
   "cell_type": "markdown",
   "metadata": {},
   "source": [
    "Something doesn't feel right. Right?"
   ]
  },
  {
   "cell_type": "markdown",
   "metadata": {},
   "source": [
    "if-elif-else statement: allow us to introduce ourselves..."
   ]
  },
  {
   "cell_type": "markdown",
   "metadata": {},
   "source": [
    "![meme](images/meme.jpeg)"
   ]
  },
  {
   "cell_type": "markdown",
   "metadata": {},
   "source": [
    "### 10.2.3 if-elif-else statements"
   ]
  },
  {
   "cell_type": "markdown",
   "metadata": {},
   "source": [
    "- elif is an alias for else if.\n",
    "\n",
    "- When we have more than one condition to be tested then we must use the if-elif-else statement. \n",
    "\n",
    "- The construct of an if-elif-else statement begins with an if-statement and we can write any number of times elif-statements followed by a final else-statement (which is optional).\n",
    "\n",
    "- The execution model of the if-elif-else statement is as follows.\n",
    "    - It will start by testing the condition-1. In case the condition-1 evaluates to true then the statement associated with the first condition (statement-block-1) will alone be executed and after that, the control will branch to statement-q which is outside the if-elif-else construct. \n",
    "\n",
    "     - In case the condition-1 evaluates to false, then the second condition (condition-2) is tested and, in case the condition-2 evaluates to true then the statement-block-2 alone will be executed, after which the control will branch outside the if-elif-else statement (that is to statement-q). \n",
    "\n",
    "    - In case the control reaches condition-n it means that the previous n-1 conditions evaluated to false and if the condition-n evaluates to true then the statement-block-n will be executed otherwise statement-block-p will be executed. \n",
    "<br>\n",
    "<br>\n",
    "- An if-elif-else construct can be used to avoid multiple if statements as well."
   ]
  },
  {
   "cell_type": "markdown",
   "metadata": {},
   "source": [
    "The general syntax of the if-elif-else statements are as follows."
   ]
  },
  {
   "cell_type": "markdown",
   "metadata": {},
   "source": [
    "if &lt;condtion-1&gt;:<br>\n",
    "&emsp;statement-block-1<br>\n",
    "elif &lt;condition-2&gt;:<br>\n",
    "&emsp;statement-block-2<br>\n",
    "elif &lt;condition-3&gt;:<br>\n",
    "&emsp;statement-block-3<br>\n",
    "&emsp;.....<br>\n",
    "&emsp;.....<br>\n",
    "elif &lt;condition-n&gt;:<br>\n",
    "&emsp;statement-block-n<br>\n",
    "else:<br>\n",
    "&emsp;statement-block-p<br>\n",
    "statement-block-q"
   ]
  },
  {
   "cell_type": "markdown",
   "metadata": {},
   "source": [
    "The flow chart is as follows..."
   ]
  },
  {
   "cell_type": "markdown",
   "metadata": {},
   "source": [
    "![if-elif-else](images/if-elif-else.png)"
   ]
  },
  {
   "cell_type": "markdown",
   "metadata": {},
   "source": [
    "Now let's see our above example with if-elif-else statements."
   ]
  },
  {
   "cell_type": "code",
   "execution_count": null,
   "metadata": {},
   "outputs": [],
   "source": [
    "# a < b\n",
    "a = int(input(\"Enter value of a: \"))\n",
    "b = int(input(\"Enter value of b: \"))\n",
    "\n",
    "if a < b:\n",
    "    print(f\"a < b since a = {a} and b = {b}\")\n",
    "elif a > b:\n",
    "    print(f\"a > b since a = {a} and b = {b}\")\n",
    "else:\n",
    "    print(f\"a == b since a = {a} and b = {b}\")"
   ]
  },
  {
   "cell_type": "code",
   "execution_count": null,
   "metadata": {},
   "outputs": [],
   "source": [
    "# a > b\n",
    "a = int(input(\"Enter value of a: \"))\n",
    "b = int(input(\"Enter value of b: \"))\n",
    "\n",
    "if a < b:\n",
    "    print(f\"a < b since a = {a} and b = {b}\")\n",
    "elif a > b:\n",
    "    print(f\"a > b since a = {a} and b = {b}\")\n",
    "else:\n",
    "    print(f\"a == b since a = {a} and b = {b}\")"
   ]
  },
  {
   "cell_type": "code",
   "execution_count": null,
   "metadata": {},
   "outputs": [],
   "source": [
    "# a == b\n",
    "a = int(input(\"Enter value of a: \"))\n",
    "b = int(input(\"Enter value of b: \"))\n",
    "\n",
    "if a < b:\n",
    "    print(f\"a < b since a = {a} and b = {b}\")\n",
    "elif a > b:\n",
    "    print(f\"a > b since a = {a} and b = {b}\")\n",
    "else:\n",
    "    print(f\"a == b since a = {a} and b = {b}\")"
   ]
  },
  {
   "cell_type": "markdown",
   "metadata": {},
   "source": [
    "### 10.2.4 Nested if statements"
   ]
  },
  {
   "cell_type": "markdown",
   "metadata": {},
   "source": [
    "We can multiple if statements, each nested within the other (i.e one if block inside another if block)."
   ]
  },
  {
   "cell_type": "markdown",
   "metadata": {},
   "source": [
    "The general syntax for nested if statements are as follows."
   ]
  },
  {
   "cell_type": "markdown",
   "metadata": {},
   "source": [
    "if &lt;condition-1&gt;:<br>\n",
    "&emsp;if &lt;condition-2&gt;:<br>\n",
    "&emsp;&emsp;statement-block-1<br>\n",
    "&emsp;statement-block-2<br>\n",
    "statement-block-3"
   ]
  },
  {
   "cell_type": "markdown",
   "metadata": {},
   "source": [
    "Alternatively,"
   ]
  },
  {
   "cell_type": "markdown",
   "metadata": {},
   "source": [
    "if &lt;condition-1&gt;:<br>\n",
    "&emsp;statement-block-1<br>\n",
    "else:<br>\n",
    "&emsp;if &lt;condition-2&gt;:<br>\n",
    "&emsp;&emsp;statement-block-2<br>\n",
    "&emsp;statement-block-3<br>\n",
    "statement-block-4"
   ]
  },
  {
   "cell_type": "markdown",
   "metadata": {},
   "source": [
    "- There are no limitations on the various combinations that nested if statements can be used.\n",
    "- All we need to verify is the logical correctness and syntactical correctness."
   ]
  },
  {
   "cell_type": "markdown",
   "metadata": {},
   "source": [
    "A few examples are demonstrated below..."
   ]
  },
  {
   "cell_type": "code",
   "execution_count": null,
   "metadata": {},
   "outputs": [],
   "source": [
    "# using nested if statements to see if check \n",
    "# if a number is positive, negative or zero.\n",
    "\n",
    "num = float(input(\"Enter a number: \"))\n",
    "if num >= 0:\n",
    "    if num == 0:\n",
    "        print(\"Entered number is Zero\")\n",
    "    else:\n",
    "        print(\"Entered number is a Positive number\")\n",
    "else:\n",
    "    print(\"Entered number is a Negative number\")"
   ]
  },
  {
   "cell_type": "code",
   "execution_count": null,
   "metadata": {},
   "outputs": [],
   "source": [
    "# it's my bday month\n",
    "today = int(input(\"Enter today's date: \"))\n",
    "bday = int(input(\"Enter bday date: \"))\n",
    "if today < bday:\n",
    "    print(\"Birthday coming soon :))\")\n",
    "else:\n",
    "    if today == bday:\n",
    "        print(\"It's party time! Wohooooo!!!!\")\n",
    "    else:\n",
    "        print(\"Birthday done for this year. Wait until next year...\")"
   ]
  },
  {
   "cell_type": "markdown",
   "metadata": {},
   "source": [
    "## 2. Looping ( Iterative ) Statements"
   ]
  },
  {
   "cell_type": "markdown",
   "metadata": {},
   "source": [
    "### 2.1 For-loop"
   ]
  },
  {
   "cell_type": "markdown",
   "metadata": {},
   "source": [
    "The for loop in Python is used to iterate over a sequence (list, tuple, string) or other iterable objects. \n",
    "\n",
    "Iterating over a sequence is called traversal."
   ]
  },
  {
   "cell_type": "markdown",
   "metadata": {},
   "source": [
    "The syntax of for loop is as follows..."
   ]
  },
  {
   "cell_type": "markdown",
   "metadata": {},
   "source": [
    "for val in sequence:<br>\n",
    "&emsp;statement-block"
   ]
  },
  {
   "cell_type": "markdown",
   "metadata": {},
   "source": [
    "- Here, val is the variable that takes the value of the item inside the sequence on each iteration.\n",
    "\n",
    "- Loop continues until we reach the last item in the sequence. The body of for loop is separated from the rest of the code using indentation."
   ]
  },
  {
   "cell_type": "markdown",
   "metadata": {},
   "source": [
    "The flow chart of for loop is as follows."
   ]
  },
  {
   "cell_type": "markdown",
   "metadata": {},
   "source": [
    "![for](images/for.jpeg)"
   ]
  },
  {
   "cell_type": "markdown",
   "metadata": {},
   "source": [
    "#### 2.1.1 range() function"
   ]
  },
  {
   "cell_type": "markdown",
   "metadata": {},
   "source": [
    "- We can generate a sequence of numbers using range() function. range(10) will generate numbers from 0 to 9 (10 numbers).\n",
    "\n",
    "- We can also define the start, stop and step size as range(start, stop, step_size). step_size defaults to 1 if not provided.\n",
    "\n",
    "- This function does not store all the values in memory; it would be inefficient. So it remembers the start, stop, step size and generates the next number on the go.\n",
    "\n",
    "- To force this function to output all the items, we can use the function list()."
   ]
  },
  {
   "cell_type": "markdown",
   "metadata": {},
   "source": [
    "<ins>Note:</ins> The range function include integers from start value to stop value EXCLUDING the stop value."
   ]
  },
  {
   "cell_type": "code",
   "execution_count": 3,
   "metadata": {},
   "outputs": [
    {
     "name": "stdout",
     "output_type": "stream",
     "text": [
      "range(0, 10)\n"
     ]
    }
   ],
   "source": [
    "print(range(10))"
   ]
  },
  {
   "cell_type": "code",
   "execution_count": 4,
   "metadata": {},
   "outputs": [
    {
     "name": "stdout",
     "output_type": "stream",
     "text": [
      "[0, 1, 2, 3, 4, 5, 6, 7, 8, 9]\n"
     ]
    }
   ],
   "source": [
    "print(list(range(10)))"
   ]
  },
  {
   "cell_type": "code",
   "execution_count": 6,
   "metadata": {},
   "outputs": [
    {
     "name": "stdout",
     "output_type": "stream",
     "text": [
      "[2, 3, 4, 5, 6, 7]\n"
     ]
    }
   ],
   "source": [
    "print(list(range(2, 8)))"
   ]
  },
  {
   "cell_type": "code",
   "execution_count": 8,
   "metadata": {},
   "outputs": [
    {
     "name": "stdout",
     "output_type": "stream",
     "text": [
      "[1, 3, 5, 7, 9]\n"
     ]
    }
   ],
   "source": [
    "print(list(range(1, 10, 2)))"
   ]
  },
  {
   "cell_type": "markdown",
   "metadata": {},
   "source": [
    "Now let's see how to use range() function in for loops..."
   ]
  },
  {
   "cell_type": "code",
   "execution_count": 13,
   "metadata": {},
   "outputs": [
    {
     "name": "stdout",
     "output_type": "stream",
     "text": [
      "0, 1, 2, 3, 4, "
     ]
    }
   ],
   "source": [
    "for i in range(5):\n",
    "    print(i, end=\", \")"
   ]
  },
  {
   "cell_type": "markdown",
   "metadata": {},
   "source": [
    "Also we use it to print individual elements that make up a sequence.\n",
    "\n",
    "In the below 2 examples we do the same thing."
   ]
  },
  {
   "cell_type": "code",
   "execution_count": 12,
   "metadata": {},
   "outputs": [
    {
     "name": "stdout",
     "output_type": "stream",
     "text": [
      "0, 1, 2, 3, 4, "
     ]
    }
   ],
   "source": [
    "for i in [0, 1, 2, 3, 4]:\n",
    "    print(i, end=\", \")"
   ]
  },
  {
   "cell_type": "markdown",
   "metadata": {},
   "source": [
    "We can also use for loops to with strings to printout single characters."
   ]
  },
  {
   "cell_type": "code",
   "execution_count": 15,
   "metadata": {},
   "outputs": [
    {
     "name": "stdout",
     "output_type": "stream",
     "text": [
      "P, y, t, h, o, n, "
     ]
    }
   ],
   "source": [
    "for char in \"Python\":\n",
    "    print(char, end=\", \")"
   ]
  },
  {
   "cell_type": "markdown",
   "metadata": {},
   "source": [
    "#### 2.1.2 len() function"
   ]
  },
  {
   "cell_type": "markdown",
   "metadata": {},
   "source": [
    "len() function returns the length of a sequence."
   ]
  },
  {
   "cell_type": "code",
   "execution_count": 16,
   "metadata": {},
   "outputs": [
    {
     "name": "stdout",
     "output_type": "stream",
     "text": [
      "5\n"
     ]
    }
   ],
   "source": [
    "print(len([1, 2, 3, 4, 5]))"
   ]
  },
  {
   "cell_type": "code",
   "execution_count": 19,
   "metadata": {},
   "outputs": [
    {
     "name": "stdout",
     "output_type": "stream",
     "text": [
      "Nums = [0, 1, 2, 3, 4, 5, 6, 7, 8, 9] and length = 10\n"
     ]
    }
   ],
   "source": [
    "list_nums = list(range(10))\n",
    "print(f\"Nums = {list_nums} and length = {len(list_nums)}\")"
   ]
  },
  {
   "cell_type": "code",
   "execution_count": 21,
   "metadata": {},
   "outputs": [
    {
     "name": "stdout",
     "output_type": "stream",
     "text": [
      "Python\n",
      "is\n",
      "easy\n",
      "!!!\n"
     ]
    }
   ],
   "source": [
    "words = [\"Python\", \"is\", \"easy\", \"!!!\"]\n",
    "for i in range(len(words)):\n",
    "    print(words[i])"
   ]
  },
  {
   "cell_type": "markdown",
   "metadata": {},
   "source": [
    "#### 2.1.3 for loop with else"
   ]
  },
  {
   "cell_type": "markdown",
   "metadata": {},
   "source": [
    "- A for loop can have an optional else block as well. The else part is executed if the items in the sequence used in for loop exhausts.\n",
    "- The break keyword can be used to stop a for loop. In such cases, the else part is ignored.\n",
    "- Hence, a for loop's else part runs if no break occurs.\n",
    "- We will see what the break does in a few moments..."
   ]
  },
  {
   "cell_type": "code",
   "execution_count": 24,
   "metadata": {},
   "outputs": [
    {
     "name": "stdout",
     "output_type": "stream",
     "text": [
      "0\n",
      "1\n",
      "2\n",
      "3\n",
      "4\n",
      "5\n",
      "6\n",
      "7\n",
      "8\n",
      "9\n",
      "Loop executed entirely!\n"
     ]
    }
   ],
   "source": [
    "for i in range(5):\n",
    "    if i < 5:\n",
    "        print(i)\n",
    "    else:\n",
    "        break\n",
    "else:\n",
    "    print(\"Loop executed entirely!\")"
   ]
  },
  {
   "cell_type": "code",
   "execution_count": 26,
   "metadata": {},
   "outputs": [
    {
     "name": "stdout",
     "output_type": "stream",
     "text": [
      "0\n",
      "1\n",
      "2\n",
      "3\n",
      "4\n"
     ]
    }
   ],
   "source": [
    "for i in range(10):\n",
    "    if i < 5:\n",
    "        print(i)\n",
    "    else:\n",
    "        break\n",
    "else:\n",
    "    print(\"Loop executed entirely!\")"
   ]
  },
  {
   "cell_type": "markdown",
   "metadata": {},
   "source": [
    "### 2.2 while loop"
   ]
  },
  {
   "cell_type": "markdown",
   "metadata": {},
   "source": []
  }
 ],
 "metadata": {
  "interpreter": {
   "hash": "aee8b7b246df8f9039afb4144a1f6fd8d2ca17a180786b69acc140d282b71a49"
  },
  "kernelspec": {
   "display_name": "Python 3.9.1 64-bit",
   "language": "python",
   "name": "python3"
  },
  "language_info": {
   "codemirror_mode": {
    "name": "ipython",
    "version": 3
   },
   "file_extension": ".py",
   "mimetype": "text/x-python",
   "name": "python",
   "nbconvert_exporter": "python",
   "pygments_lexer": "ipython3",
   "version": "3.9.1"
  },
  "orig_nbformat": 4
 },
 "nbformat": 4,
 "nbformat_minor": 2
}
