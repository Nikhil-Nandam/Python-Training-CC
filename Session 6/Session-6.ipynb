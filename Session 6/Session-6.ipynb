{
 "cells": [
  {
   "cell_type": "markdown",
   "metadata": {},
   "source": [
    "# Welcome To Python Training Session by Coding Club JNTUHCEH"
   ]
  },
  {
   "cell_type": "markdown",
   "metadata": {},
   "source": [
    "![Logo](../logo/X.png)"
   ]
  },
  {
   "cell_type": "markdown",
   "metadata": {},
   "source": [
    "## Session 6 - 24/01/2022"
   ]
  },
  {
   "cell_type": "markdown",
   "metadata": {},
   "source": [
    "# Chapter - 6 OOP in Python (Contd.)"
   ]
  },
  {
   "cell_type": "markdown",
   "metadata": {},
   "source": [
    "## 6. Methods"
   ]
  },
  {
   "cell_type": "markdown",
   "metadata": {},
   "source": [
    "Methods are functions defined inside the body of a class. \n",
    "\n",
    "They are used to define the behaviors of an object."
   ]
  },
  {
   "cell_type": "markdown",
   "metadata": {},
   "source": [
    "### 6.1 Instance methods"
   ]
  },
  {
   "cell_type": "markdown",
   "metadata": {},
   "source": [
    "Instance methods are those methods where every object/instance of the class, will have a copy of the method within the object.\n",
    "\n",
    "Each instance will have it's own copy of the instance that is bound to the instance.\n",
    "\n",
    "These methods will not be shared among instances."
   ]
  },
  {
   "cell_type": "markdown",
   "metadata": {},
   "source": [
    "Let's see an example..."
   ]
  },
  {
   "cell_type": "code",
   "execution_count": null,
   "metadata": {},
   "outputs": [],
   "source": [
    "class Parrot:\n",
    "\n",
    "    def __init__(self, name, age):\n",
    "        # instance attributes\n",
    "        self.name = name\n",
    "        self.age = age\n",
    "    \n",
    "    # instance method\n",
    "    def sing(self, song):\n",
    "        return \"{} sings {}\".format(self.name, song)\n",
    "\n",
    "    def dance(self):\n",
    "        return \"{} is now dancing\".format(self.name)\n",
    "\n",
    "blu = Parrot(\"Blu\", 10)"
   ]
  },
  {
   "cell_type": "markdown",
   "metadata": {},
   "source": [
    "We have defined a class `Parrot` and created an object of the `Parrot` class named `blu`."
   ]
  },
  {
   "cell_type": "markdown",
   "metadata": {},
   "source": [
    "The `Parrot` class had 2 instance methods namely `sing` and `dance`.\n",
    "\n",
    "Each of the objects (instances) of the `Parrot` class will have both the methods individually.\n",
    "\n",
    "It is not a shared method among the instances."
   ]
  },
  {
   "cell_type": "code",
   "execution_count": null,
   "metadata": {},
   "outputs": [],
   "source": [
    "blu.sing('Happy')"
   ]
  },
  {
   "cell_type": "code",
   "execution_count": null,
   "metadata": {},
   "outputs": [],
   "source": [
    "blu.dance()"
   ]
  },
  {
   "cell_type": "markdown",
   "metadata": {},
   "source": [
    "### 6.2 Class Methods"
   ]
  },
  {
   "cell_type": "markdown",
   "metadata": {},
   "source": [
    "A class method is a method that is bound to a class rather than its object.\n",
    "\n",
    "Class Methods unlike instance methods are shared among all the objects of the class.\n",
    "\n",
    "Each object doesn't have their own copy of the class method.\n",
    "\n",
    "Only one copy of the class method will be used by all the instances of the class."
   ]
  },
  {
   "cell_type": "markdown",
   "metadata": {},
   "source": [
    "The class method can be called both by the class and its object.\n",
    "\n",
    "The class method is always attached to a class with the first argument as the class itself `cls`.\n",
    "\n",
    "We generally use class method to create factory methods. Factory methods return class objects ( similar to a constructor ) for different use cases."
   ]
  },
  {
   "cell_type": "markdown",
   "metadata": {},
   "source": [
    "We use the `@classmethod` decorator just above the class method definition.\n",
    "\n",
    "The syntax is as follows..."
   ]
  },
  {
   "cell_type": "markdown",
   "metadata": {},
   "source": [
    "class C(object):<br>\n",
    "&emsp;@classmethod<br>\n",
    "&emsp;def fun(cls, arg1, arg2, ...):<br>\n",
    "&emsp;&emsp;...."
   ]
  },
  {
   "cell_type": "markdown",
   "metadata": {},
   "source": [
    "Let's see an example..."
   ]
  },
  {
   "cell_type": "code",
   "execution_count": null,
   "metadata": {},
   "outputs": [],
   "source": [
    "from datetime import date\n",
    "\n",
    "# random Person\n",
    "class Person:\n",
    "    def __init__(self, name, age):\n",
    "        self.name = name\n",
    "        self.age = age\n",
    "\n",
    "    @classmethod\n",
    "    def fromBirthYear(cls, name, birthYear):\n",
    "        return cls(name, date.today().year - birthYear)\n",
    "\n",
    "    # instance method\n",
    "    def display(self):\n",
    "        print(self.name + \"'s age is: \" + str(self.age))\n",
    "\n",
    "person = Person('Adam', 19)\n",
    "person.display()"
   ]
  },
  {
   "cell_type": "code",
   "execution_count": null,
   "metadata": {},
   "outputs": [],
   "source": [
    "person1 = Person.fromBirthYear('John',  1985)\n",
    "person1.display()"
   ]
  },
  {
   "cell_type": "markdown",
   "metadata": {},
   "source": [
    "### 6.3 Static method"
   ]
  },
  {
   "cell_type": "markdown",
   "metadata": {},
   "source": [
    "A static method is also a method that is bound to the class and not the object of the class.\n",
    "\n",
    "A static method can’t access or modify the class state.\n",
    "\n",
    "It is present in a class because it makes sense for the method to be present in class."
   ]
  },
  {
   "cell_type": "markdown",
   "metadata": {},
   "source": [
    "The `@staticmethod` decorator is used to create a static method.\n",
    "\n",
    "Before we see an example for the static method, we need to discuss a few points."
   ]
  },
  {
   "cell_type": "markdown",
   "metadata": {},
   "source": [
    "### 6.4 Class method vs Static Method"
   ]
  },
  {
   "cell_type": "markdown",
   "metadata": {},
   "source": [
    "A class method takes `cls` as the first parameter while a static method needs no specific parameters.\n",
    "\n",
    "A class method can access or modify the class state while a static method can’t access or modify it.\n",
    "\n",
    "In general, static methods know nothing about the class state. They are utility-type methods that take some parameters and work upon those parameters. On the other hand class methods must have class as a parameter.\n",
    "\n",
    "We use `@classmethod` decorator in python to create a class method and we use `@staticmethod` decorator to create a static method in python."
   ]
  },
  {
   "cell_type": "markdown",
   "metadata": {},
   "source": [
    "### 6.5 When to use what?"
   ]
  },
  {
   "cell_type": "markdown",
   "metadata": {},
   "source": [
    "We generally use class method to create factory methods. Factory methods return class objects ( similar to a constructor ) for different use cases.\n",
    "\n",
    "\n",
    "We generally use static methods to create utility functions."
   ]
  },
  {
   "cell_type": "code",
   "execution_count": null,
   "metadata": {},
   "outputs": [],
   "source": [
    "from datetime import date\n",
    "\n",
    "class Person:\n",
    "    def __init__(self, name, age):\n",
    "        self.name = name\n",
    "        self.age = age\n",
    "    # a class method to create a Person object by birth year.\n",
    "    @classmethod\n",
    "    def fromBirthYear(cls, name, year):\n",
    "        return cls(name, date.today().year - year)\n",
    "\n",
    "    # a static method to check if a Person is adult or not.\n",
    "    @staticmethod\n",
    "    def isAdult(age):\n",
    "        return age > 18\n",
    "\n",
    "person1 = Person('mayank', 21)\n",
    "person2 = Person.fromBirthYear('mayank', 1996)"
   ]
  },
  {
   "cell_type": "code",
   "execution_count": null,
   "metadata": {},
   "outputs": [],
   "source": [
    "person1.age"
   ]
  },
  {
   "cell_type": "code",
   "execution_count": null,
   "metadata": {},
   "outputs": [],
   "source": [
    "person2.age"
   ]
  },
  {
   "cell_type": "code",
   "execution_count": null,
   "metadata": {},
   "outputs": [],
   "source": [
    "Person.isAdult(22)"
   ]
  },
  {
   "cell_type": "markdown",
   "metadata": {},
   "source": [
    "## 7. Inheritance"
   ]
  },
  {
   "cell_type": "markdown",
   "metadata": {},
   "source": [
    "### 7.1 What is Inheritance?"
   ]
  },
  {
   "cell_type": "markdown",
   "metadata": {},
   "source": [
    "Inheritance is a powerful feature in object oriented programming.\n",
    "\n",
    "It refers to defining a new class with little or no modification to an existing class. \n",
    "\n",
    "The new class is called **derived (or child)class** and the one from which it inherits is called the **base (or parent) class**."
   ]
  },
  {
   "cell_type": "markdown",
   "metadata": {},
   "source": [
    "### 7.2 Syntax for Inheritance"
   ]
  },
  {
   "cell_type": "markdown",
   "metadata": {},
   "source": [
    "The syntax for Inheritance in Python is as follows..."
   ]
  },
  {
   "cell_type": "markdown",
   "metadata": {},
   "source": [
    "class BaseClass:<br>\n",
    "&emsp;Body of base class<br>\n",
    "class DerivedClass(BaseClass):<br>\n",
    "&emsp;Body of derived class"
   ]
  },
  {
   "cell_type": "markdown",
   "metadata": {},
   "source": [
    "Note the `(BaseClass)` in the `DerivedClass` definition."
   ]
  },
  {
   "cell_type": "markdown",
   "metadata": {},
   "source": [
    "Derived class inherits features from the base class where new features can be added to it. This results in re-usability of code."
   ]
  },
  {
   "cell_type": "markdown",
   "metadata": {},
   "source": [
    "### 7.3 Example of Inheritance"
   ]
  },
  {
   "cell_type": "markdown",
   "metadata": {},
   "source": [
    "A polygon is a closed figure with 3 or more sides. Say, we have a class called Polygon defined as follows."
   ]
  },
  {
   "cell_type": "code",
   "execution_count": null,
   "metadata": {},
   "outputs": [],
   "source": [
    "class Polygon:\n",
    "    def __init__(self, no_of_sides):\n",
    "        self.n = no_of_sides\n",
    "        self.sides = [0 for i in range(no_of_sides)]\n",
    "\n",
    "    def inputSides(self):\n",
    "        self.sides = [float(input(\"Enter side \" + str(i + 1) + \" : \")) for i in range(self.n)]\n",
    "\n",
    "    def dispSides(self):\n",
    "        for i in range(self.n):\n",
    "            print(\"Side\", i + 1, \"is\", self.sides[i])"
   ]
  },
  {
   "cell_type": "markdown",
   "metadata": {},
   "source": [
    "This class has data attributes to store the number of sides n and magnitude of each side as a list called sides."
   ]
  },
  {
   "cell_type": "markdown",
   "metadata": {},
   "source": [
    "A triangle is a polygon with 3 sides. So, we can create a class called Triangle which inherits from Polygon. \n",
    "\n",
    "This makes all the attributes of Polygon class available to the Triangle class."
   ]
  },
  {
   "cell_type": "code",
   "execution_count": null,
   "metadata": {},
   "outputs": [],
   "source": [
    "class Triangle(Polygon):\n",
    "    def __init__(self):\n",
    "        Polygon.__init__(self, 3)\n",
    "\n",
    "    def findArea(self):\n",
    "        a, b, c = self.sides\n",
    "        # calculate the semi-perimeter\n",
    "        s = (a + b + c) / 2\n",
    "        area = (s * (s - a) * (s - b) * (s - c)) ** 0.5\n",
    "        print('The area of the triangle is {:.2f}'.format(area))"
   ]
  },
  {
   "cell_type": "code",
   "execution_count": null,
   "metadata": {},
   "outputs": [],
   "source": [
    "t = Triangle()\n",
    "t.inputSides()\n",
    "\n",
    "t.dispSides()\n",
    "t.findArea()"
   ]
  },
  {
   "cell_type": "markdown",
   "metadata": {},
   "source": [
    "Although we didn't define methods like `inputSides()` and `dispSides()` inside the `Triangle` Class, we were able to use them.\n",
    "\n",
    "This is because if an attribute is not found in the class itself, the search continues to the base class.\n",
    "\n",
    "This repeats recursively, if the base class is itself derived from other classes."
   ]
  },
  {
   "cell_type": "markdown",
   "metadata": {},
   "source": [
    "### 7.4 Method Overriding"
   ]
  },
  {
   "cell_type": "markdown",
   "metadata": {},
   "source": [
    "Method overriding is an ability of any object-oriented programming language that allows a subclass or child class to provide a specific implementation of a method that is already provided by one of its super-classes or parent classes. \n",
    "\n",
    "When a method in a subclass has the same name, same parameters or signature and same return type(or sub-type) as a method in its super-class, then the method in the subclass is said to override the method in the super-class.\n",
    "\n",
    "In the above example, notice that `__init__()` method was defined in both classes, `Triangle` as well `Polygon`.\n",
    "\n",
    "When this happens, the method in the derived class overrides that in the base class.\n",
    "\n",
    "Generally when overriding a base method, we tend to extend the definition rather than simply replace it. \n",
    "\n",
    "The same is being done by calling the method in base class from the one in derived class (calling `Polygon.__init__()` from `__init__()` in Triangle).\n",
    "\n",
    "A better option would be to the built-in function `super()`."
   ]
  },
  {
   "cell_type": "markdown",
   "metadata": {},
   "source": [
    "#### 7.4.1 super() function"
   ]
  },
  {
   "cell_type": "markdown",
   "metadata": {},
   "source": [
    "In Python, `super()` has two major use cases:\n",
    "\n",
    "- Allows us to avoid using the base class name explicitly\n",
    "- Working with Multiple Inheritance"
   ]
  },
  {
   "cell_type": "code",
   "execution_count": 21,
   "metadata": {},
   "outputs": [
    {
     "name": "stdout",
     "output_type": "stream",
     "text": [
      "Dog has four legs.\n",
      "Dog is a warm-blooded animal.\n"
     ]
    }
   ],
   "source": [
    "class Mammal(object):\n",
    "    def __init__(self, mammalName):\n",
    "        print(f'{mammalName} is a warm-blooded animal.')\n",
    "        \n",
    "class Dog(Mammal):\n",
    "    def __init__(self):\n",
    "        print('Dog has four legs.')\n",
    "        super().__init__('Dog')\n",
    "    \n",
    "d1 = Dog()"
   ]
  },
  {
   "cell_type": "markdown",
   "metadata": {},
   "source": [
    "Here, we called the `__init__()` method of the Mammal class (from the Dog class) using code `super().__init__('Dog')` instead of `Mammal.__init__(self, 'Dog')`.\n",
    "\n",
    "Since we do not need to specify the name of the base class when we call its members, we can easily change the base class name (if we need to)."
   ]
  },
  {
   "cell_type": "markdown",
   "metadata": {},
   "source": [
    "### 7.5 isinstance() and issubclass() functions"
   ]
  },
  {
   "cell_type": "markdown",
   "metadata": {},
   "source": [
    "#### 7.5.1 isinstance() function"
   ]
  },
  {
   "cell_type": "markdown",
   "metadata": {},
   "source": [
    "The function `isinstance()` returns `True` if the object is an instance of the class or other classes derived from it. \n",
    "\n",
    "**Note**: Each and every class in Python inherits from the base class `object`."
   ]
  },
  {
   "cell_type": "code",
   "execution_count": null,
   "metadata": {},
   "outputs": [],
   "source": [
    "isinstance(t, Triangle)"
   ]
  },
  {
   "cell_type": "code",
   "execution_count": null,
   "metadata": {},
   "outputs": [],
   "source": [
    "isinstance(t, Polygon)"
   ]
  },
  {
   "cell_type": "code",
   "execution_count": null,
   "metadata": {},
   "outputs": [],
   "source": [
    "isinstance(t, float)"
   ]
  },
  {
   "cell_type": "code",
   "execution_count": null,
   "metadata": {},
   "outputs": [],
   "source": [
    "isinstance(t, object)"
   ]
  },
  {
   "cell_type": "markdown",
   "metadata": {},
   "source": [
    "#### 7.5.2 issubclass() function"
   ]
  },
  {
   "cell_type": "markdown",
   "metadata": {},
   "source": [
    "The function `issubclass()` is used to check for class inheritance.\n",
    "\n",
    "Returns `True` if the first parameter is a class that inherits from second parameter class. "
   ]
  },
  {
   "cell_type": "code",
   "execution_count": null,
   "metadata": {},
   "outputs": [],
   "source": [
    "issubclass(Mammal , Dog)"
   ]
  },
  {
   "cell_type": "code",
   "execution_count": null,
   "metadata": {},
   "outputs": [],
   "source": [
    "issubclass(Dog, Mammal)"
   ]
  },
  {
   "cell_type": "markdown",
   "metadata": {},
   "source": [
    "### 7.6 Multi-Level Inheritance"
   ]
  },
  {
   "cell_type": "markdown",
   "metadata": {},
   "source": [
    "A derived class can act as a base to another derived class. This is called Multi-Level Inheritance.\n",
    "\n",
    "It can be of any depth in Python.\n",
    "\n",
    "In multilevel inheritance, features of the base class and the derived class are inherited into the new derived class."
   ]
  },
  {
   "cell_type": "markdown",
   "metadata": {},
   "source": [
    "![multi-level](images/multi-level.png)"
   ]
  },
  {
   "cell_type": "markdown",
   "metadata": {},
   "source": [
    "Let's see an example..."
   ]
  },
  {
   "cell_type": "code",
   "execution_count": null,
   "metadata": {},
   "outputs": [],
   "source": [
    "class Base:\n",
    "    # class attribute\n",
    "    a = 10\n",
    "    \n",
    "class Derived1(Base):\n",
    "    # class attribute\n",
    "    b = 20\n",
    "\n",
    "class Derived2(Derived1):\n",
    "    # class attribute\n",
    "    c = 30\n",
    "\n",
    "obj = Derived2()\n",
    "obj.c"
   ]
  },
  {
   "cell_type": "code",
   "execution_count": null,
   "metadata": {},
   "outputs": [],
   "source": [
    "obj.a, obj.b, obj.c"
   ]
  },
  {
   "cell_type": "markdown",
   "metadata": {},
   "source": [
    "An object of `Derived2` has all the attributes of both `Base` class and `Derived1`.\n",
    "\n",
    "The same concept applies for methods as well."
   ]
  },
  {
   "cell_type": "markdown",
   "metadata": {},
   "source": [
    "Note that an instance of `Derived1` inherits attributes from `Base` class."
   ]
  },
  {
   "cell_type": "code",
   "execution_count": null,
   "metadata": {},
   "outputs": [],
   "source": [
    "derived1_obj = Derived1()"
   ]
  },
  {
   "cell_type": "code",
   "execution_count": null,
   "metadata": {},
   "outputs": [],
   "source": [
    "derived1_obj.a, derived1_obj.b"
   ]
  },
  {
   "cell_type": "code",
   "execution_count": null,
   "metadata": {},
   "outputs": [],
   "source": [
    "derived1_obj.c"
   ]
  },
  {
   "cell_type": "markdown",
   "metadata": {},
   "source": [
    "### 7.7 Multiple Inheritance"
   ]
  },
  {
   "cell_type": "markdown",
   "metadata": {},
   "source": [
    "A class can be derived from more than one base class in Python. This is called multiple inheritance.\n",
    "\n",
    "In multiple inheritance, the features of all the base classes are inherited into the derived class."
   ]
  },
  {
   "cell_type": "markdown",
   "metadata": {},
   "source": [
    "#### 7.7.1 Syntax"
   ]
  },
  {
   "cell_type": "markdown",
   "metadata": {},
   "source": [
    "The syntax for multiple inheritance is similar to single inheritance."
   ]
  },
  {
   "cell_type": "markdown",
   "metadata": {},
   "source": [
    "class Base1:<br>\n",
    "&emsp;body of the class<br>\n",
    "<br>\n",
    "class Base2:<br>\n",
    "&emsp;body of the class<br>\n",
    "<br>\n",
    "class MultiDerived(Base1, Base2):<br>\n",
    "&emsp;body of the class"
   ]
  },
  {
   "cell_type": "markdown",
   "metadata": {},
   "source": [
    "![multiple](images/multiple.png)"
   ]
  },
  {
   "cell_type": "markdown",
   "metadata": {},
   "source": [
    "The `MultiDerived` class inherits from both `Base1` and `Base2` classes."
   ]
  },
  {
   "cell_type": "markdown",
   "metadata": {},
   "source": [
    "Let's see an example..."
   ]
  },
  {
   "cell_type": "code",
   "execution_count": null,
   "metadata": {},
   "outputs": [],
   "source": [
    "class Base1:\n",
    "    # class attribute\n",
    "    a = 10\n",
    "\n",
    "    @classmethod\n",
    "    def display_a(cls):\n",
    "        print(f'a = {cls.a}')\n",
    "\n",
    "class Base2:\n",
    "    # class attribute\n",
    "    b = 20\n",
    "\n",
    "    @classmethod\n",
    "    def display_b(cls):\n",
    "        print(f'b = {cls.b}')\n",
    "\n",
    "class MultiDerived(Base1, Base2):\n",
    "    # class attribute\n",
    "    c = 30\n",
    "\n",
    "    @classmethod\n",
    "    def display_c(cls):\n",
    "        print(f'c = {cls.c}')\n",
    "\n",
    "multiple = MultiDerived()"
   ]
  },
  {
   "cell_type": "code",
   "execution_count": null,
   "metadata": {},
   "outputs": [],
   "source": [
    "multiple.display_a()"
   ]
  },
  {
   "cell_type": "code",
   "execution_count": null,
   "metadata": {},
   "outputs": [],
   "source": [
    "multiple.display_b()"
   ]
  },
  {
   "cell_type": "code",
   "execution_count": null,
   "metadata": {},
   "outputs": [],
   "source": [
    "multiple.display_c()"
   ]
  },
  {
   "cell_type": "markdown",
   "metadata": {},
   "source": [
    "### 7.8 Method Resolution Order (MRO)"
   ]
  },
  {
   "cell_type": "markdown",
   "metadata": {},
   "source": [
    "We have discussed earlier that every class in Python is derived from the `object` class. It is the most base type in Python.\n",
    "\n",
    "So technically, all other classes, either built-in or user-defined, are derived classes and all objects are instances of the `object` class."
   ]
  },
  {
   "cell_type": "markdown",
   "metadata": {},
   "source": [
    "Let's use the `isinstance()` method to verify this."
   ]
  },
  {
   "cell_type": "code",
   "execution_count": null,
   "metadata": {},
   "outputs": [],
   "source": [
    "isinstance(123, object)"
   ]
  },
  {
   "cell_type": "code",
   "execution_count": null,
   "metadata": {},
   "outputs": [],
   "source": [
    "isinstance(3.14, object)"
   ]
  },
  {
   "cell_type": "code",
   "execution_count": null,
   "metadata": {},
   "outputs": [],
   "source": [
    "isinstance('String', object)"
   ]
  },
  {
   "cell_type": "code",
   "execution_count": null,
   "metadata": {},
   "outputs": [],
   "source": [
    "isinstance(MultiDerived, object)"
   ]
  },
  {
   "cell_type": "code",
   "execution_count": null,
   "metadata": {},
   "outputs": [],
   "source": [
    "isinstance(Base1, object)"
   ]
  },
  {
   "cell_type": "markdown",
   "metadata": {},
   "source": [
    "In the multiple inheritance scenario, any specified attribute is searched first in the current class. \n",
    "\n",
    "If not found, the search continues into the first parent class, if not found, then second parent class and so on.\n",
    "\n",
    "Once all the direct parents are searched and the attribute is not found, then the search occurs in the parents of the first parent class and so.\n",
    "\n",
    "This recursive process repeats until the hierarchy of inheritance is exhausted.\n",
    "\n",
    "So, in the above example of `MultiDerived` class the search order is [`MultiDerived`, `Base1`, `Base2`, `object`]. \n",
    "\n",
    "This order is also called linearization of MultiDerived class and the set of rules used to find this order is called **Method Resolution Order (MRO)**."
   ]
  },
  {
   "cell_type": "markdown",
   "metadata": {},
   "source": [
    "MRO of a class can be viewed as the `__mro__` attribute or the `mro()` method. The former returns a tuple while the latter returns a list."
   ]
  },
  {
   "cell_type": "code",
   "execution_count": null,
   "metadata": {},
   "outputs": [],
   "source": [
    "MultiDerived.__mro__"
   ]
  },
  {
   "cell_type": "code",
   "execution_count": null,
   "metadata": {},
   "outputs": [],
   "source": [
    "MultiDerived.mro()"
   ]
  },
  {
   "cell_type": "markdown",
   "metadata": {},
   "source": [
    "Let's see a complicated example..."
   ]
  },
  {
   "cell_type": "markdown",
   "metadata": {},
   "source": [
    "![complicated](images/complicated.png)"
   ]
  },
  {
   "cell_type": "code",
   "execution_count": null,
   "metadata": {},
   "outputs": [],
   "source": [
    "class X:\n",
    "    pass\n",
    "\n",
    "class Y:\n",
    "    pass\n",
    "\n",
    "class Z:\n",
    "    pass\n",
    "\n",
    "class A(X, Y):\n",
    "    pass\n",
    "\n",
    "class B(Y, Z):\n",
    "    pass\n",
    "\n",
    "class M(A, B, Z):\n",
    "    pass\n",
    "\n",
    "print(M.mro())"
   ]
  },
  {
   "cell_type": "markdown",
   "metadata": {},
   "source": [
    "### 7.9 Diamond Inheritance"
   ]
  },
  {
   "cell_type": "markdown",
   "metadata": {},
   "source": [
    "![diamond](images/diamond.png)"
   ]
  },
  {
   "cell_type": "code",
   "execution_count": null,
   "metadata": {},
   "outputs": [],
   "source": [
    "class A:\n",
    "    def rk(self):\n",
    "        print(\"In class A\")\n",
    "\n",
    "class B(A):\n",
    "    def rk(self):\n",
    "        print(\"In class B\")\n",
    "\n",
    "class C(A):\n",
    "    def rk(self):\n",
    "        print(\"In class C\")\n",
    "\n",
    "class D(B, C):\n",
    "    pass\n",
    "\t\n",
    "r = D()\n",
    "r.rk()"
   ]
  },
  {
   "cell_type": "markdown",
   "metadata": {},
   "source": [
    "To understand why this is happening, let's look at the MRO."
   ]
  },
  {
   "cell_type": "code",
   "execution_count": null,
   "metadata": {},
   "outputs": [],
   "source": [
    "D.mro()"
   ]
  },
  {
   "cell_type": "markdown",
   "metadata": {},
   "source": [
    "MRO: Class D -> Class B -> Class C -> Class A"
   ]
  },
  {
   "cell_type": "markdown",
   "metadata": {},
   "source": [
    "### 7.10 super() with Multiple Inheritance"
   ]
  },
  {
   "cell_type": "code",
   "execution_count": null,
   "metadata": {},
   "outputs": [],
   "source": [
    "class Animal:\n",
    "    def __init__(self, Animal):\n",
    "        print(Animal, 'is an animal.')\n",
    "\n",
    "class Mammal(Animal):\n",
    "    def __init__(self, mammalName):\n",
    "        print(mammalName, 'is a warm-blooded animal.')\n",
    "        super().__init__(mammalName)\n",
    "\n",
    "class NonWingedMammal(Mammal):\n",
    "    def __init__(self, NonWingedMammal):\n",
    "        print(NonWingedMammal, \"can't fly.\")\n",
    "        super().__init__(NonWingedMammal)\n",
    "\n",
    "class NonMarineMammal(Mammal):\n",
    "    def __init__(self, NonMarineMammal):\n",
    "        print(NonMarineMammal, \"can't swim.\")\n",
    "        super().__init__(NonMarineMammal)\n",
    "\n",
    "class Dog(NonMarineMammal, NonWingedMammal):\n",
    "    def __init__(self):\n",
    "        print('Dog has 4 legs.')\n",
    "        super().__init__('Dog')\n",
    "    \n",
    "dog = Dog()"
   ]
  },
  {
   "cell_type": "code",
   "execution_count": null,
   "metadata": {},
   "outputs": [],
   "source": [
    "Dog.mro()"
   ]
  },
  {
   "cell_type": "code",
   "execution_count": null,
   "metadata": {},
   "outputs": [],
   "source": [
    "bat = NonMarineMammal('Bat')"
   ]
  },
  {
   "cell_type": "code",
   "execution_count": null,
   "metadata": {},
   "outputs": [],
   "source": [
    "NonMarineMammal.__mro__"
   ]
  },
  {
   "cell_type": "markdown",
   "metadata": {},
   "source": [
    "## 8. Encapsulation"
   ]
  },
  {
   "cell_type": "markdown",
   "metadata": {},
   "source": [
    "Encapsulation is one of the fundamental concepts in object-oriented programming (OOP). \n",
    "\n",
    "It describes the idea of wrapping data and the methods that work on data within one unit. \n",
    "\n",
    "This puts restrictions on accessing variables and methods directly and can prevent the accidental modification of data. \n",
    "\n",
    "To prevent accidental change, an object’s variable can only be changed by an object’s method. Those types of variables are known as `private`.\n",
    "\n",
    "This allows for **protection of data**."
   ]
  },
  {
   "cell_type": "markdown",
   "metadata": {},
   "source": [
    "![encapsulation](images/encapsulation.png)"
   ]
  },
  {
   "cell_type": "markdown",
   "metadata": {},
   "source": [
    "### 8.1 Protected Members"
   ]
  },
  {
   "cell_type": "markdown",
   "metadata": {},
   "source": [
    "Protected members (in C++ and Java) are those members of the class that cannot be accessed outside the class but can be accessed from within the class and its subclasses. \n",
    "\n",
    "To accomplish this in Python, just follow the convention by prefixing the name of the member by a **single underscore** \"`_`\"."
   ]
  },
  {
   "cell_type": "markdown",
   "metadata": {},
   "source": [
    "The protected variable can be accessed out of the class as well as in the derived class(modified too in derived class). \n",
    "\n",
    "But it is a convention (not a rule) to not access a protected member outside the body of the class."
   ]
  },
  {
   "cell_type": "code",
   "execution_count": null,
   "metadata": {},
   "outputs": [],
   "source": [
    "class Base:\n",
    "\n",
    "    def __init__(self):\n",
    "        # Protected member\n",
    "        self._a = 2\n",
    "\n",
    "class Derived(Base):\n",
    "\n",
    "    def __init__(self):\n",
    "        super().__init__()\n",
    "        print(f'Calling protected member of base class: {self._a}')\n",
    "\n",
    "        # modifying value of protected variable inside derived class\n",
    "        self._a = 3\n",
    "        print(f'After modifying protected member of base class: {self._a}')\n",
    "\n",
    "obj1 = Derived()\n",
    "obj2 = Base()\n",
    "\n",
    "# Calling protected member\n",
    "# Can be accessed but should not be done due to convention\n",
    "print(f'Accessing protected member of obj1: {obj1._a}')\n",
    "print(f'Accessing protected member of obj2: {obj2._a}')"
   ]
  },
  {
   "cell_type": "code",
   "execution_count": null,
   "metadata": {},
   "outputs": [],
   "source": [
    "# modifying protected variable\n",
    "obj2._a = 100"
   ]
  },
  {
   "cell_type": "code",
   "execution_count": null,
   "metadata": {},
   "outputs": [],
   "source": [
    "obj2._a"
   ]
  },
  {
   "cell_type": "code",
   "execution_count": null,
   "metadata": {},
   "outputs": [],
   "source": [
    "obj1._a"
   ]
  },
  {
   "cell_type": "markdown",
   "metadata": {},
   "source": [
    "### 8.2 Private Members"
   ]
  },
  {
   "cell_type": "markdown",
   "metadata": {},
   "source": [
    "Private members are similar to protected members, the difference is that the class members declared private should neither be accessed outside the class nor by any derived class.\n",
    "\n",
    "In Python, there is no existence of Private instance variables that cannot be accessed except inside a class."
   ]
  },
  {
   "cell_type": "markdown",
   "metadata": {},
   "source": [
    "However, to define a private member prefix the member name with **double underscore** “`__`”."
   ]
  },
  {
   "cell_type": "code",
   "execution_count": null,
   "metadata": {},
   "outputs": [],
   "source": [
    "class Cycle:\n",
    "\n",
    "    def __init__(self):\n",
    "        self.__maxprice = 900\n",
    "\n",
    "    def sell(self):\n",
    "        print(\"Selling Price: {}\".format(self.__maxprice))\n",
    "\n",
    "    def setMaxPrice(self, price):\n",
    "        self.__maxprice = price\n",
    "\n",
    "c = Cycle()\n",
    "c.sell()\n",
    "\n",
    "# change the price\n",
    "c.__maxprice = 1000\n",
    "c.sell()"
   ]
  },
  {
   "cell_type": "markdown",
   "metadata": {},
   "source": [
    "We can change the values of private members using *Setter* methods."
   ]
  },
  {
   "cell_type": "code",
   "execution_count": null,
   "metadata": {},
   "outputs": [],
   "source": [
    "c.setMaxPrice(1000)"
   ]
  },
  {
   "cell_type": "code",
   "execution_count": null,
   "metadata": {},
   "outputs": [],
   "source": [
    "c.sell()"
   ]
  },
  {
   "cell_type": "markdown",
   "metadata": {},
   "source": [
    "## 9. Polymorphism"
   ]
  },
  {
   "cell_type": "markdown",
   "metadata": {},
   "source": [
    "### 9.1 What is Polymorphism?"
   ]
  },
  {
   "cell_type": "markdown",
   "metadata": {},
   "source": [
    "The literal meaning of polymorphism is the condition of occurrence in different forms.\n",
    "\n",
    "Polymorphism is a very important concept in programming. It refers to the use of a single type entity (method, operator or object) to represent different types in different scenarios."
   ]
  },
  {
   "cell_type": "markdown",
   "metadata": {},
   "source": [
    "### 9.2 Polymorphism in Operators"
   ]
  },
  {
   "cell_type": "markdown",
   "metadata": {},
   "source": [
    "The same operator when applied on instances of different instances of classes, behaves differently i.e has different functionality."
   ]
  },
  {
   "cell_type": "markdown",
   "metadata": {},
   "source": [
    "#### 9.2.1 Polymorphism in addition operator"
   ]
  },
  {
   "cell_type": "markdown",
   "metadata": {},
   "source": [
    "We know that the `+` operator is used extensively in Python programs. But, it does not have a single usage."
   ]
  },
  {
   "cell_type": "markdown",
   "metadata": {},
   "source": [
    "For integer data types, `+` operator is used to perform arithmetic addition operation."
   ]
  },
  {
   "cell_type": "code",
   "execution_count": null,
   "metadata": {},
   "outputs": [],
   "source": [
    "num1, num2 = 10, 20\n",
    "num1 + num2"
   ]
  },
  {
   "cell_type": "markdown",
   "metadata": {},
   "source": [
    "Similarly, for string data types, `+` operator is used to perform concatenation."
   ]
  },
  {
   "cell_type": "code",
   "execution_count": null,
   "metadata": {},
   "outputs": [],
   "source": [
    "first_name = 'Nikhil'\n",
    "last_name = 'Nandam'\n",
    "first_name + ' ' + last_name"
   ]
  },
  {
   "cell_type": "markdown",
   "metadata": {},
   "source": [
    "The `+` operator is used to extend one list onto the other."
   ]
  },
  {
   "cell_type": "code",
   "execution_count": null,
   "metadata": {},
   "outputs": [],
   "source": [
    "list1 = [1, 2, 3]\n",
    "list2 = [4, 5]\n",
    "list1 + list2"
   ]
  },
  {
   "cell_type": "markdown",
   "metadata": {},
   "source": [
    "### 9.3 Function Polymorphism"
   ]
  },
  {
   "cell_type": "markdown",
   "metadata": {},
   "source": [
    "There are some functions in Python which are compatible to run with multiple data types."
   ]
  },
  {
   "cell_type": "markdown",
   "metadata": {},
   "source": [
    "#### 9.3.1 len() function"
   ]
  },
  {
   "cell_type": "markdown",
   "metadata": {},
   "source": [
    "One such function is the `len()` function. It can run with many data types in Python."
   ]
  },
  {
   "cell_type": "markdown",
   "metadata": {},
   "source": [
    "Let's look at some example use cases of the function..."
   ]
  },
  {
   "cell_type": "code",
   "execution_count": null,
   "metadata": {},
   "outputs": [],
   "source": [
    "# len() for a string\n",
    "len('Nikhil Nandam')"
   ]
  },
  {
   "cell_type": "code",
   "execution_count": null,
   "metadata": {},
   "outputs": [],
   "source": [
    "# len() for a list\n",
    "len([1, 2, 3, 4, 5])"
   ]
  },
  {
   "cell_type": "code",
   "execution_count": null,
   "metadata": {},
   "outputs": [],
   "source": [
    "# len() for a dictionary\n",
    "len({1: 'Coding', 2: 'Club', 3: 'JNTUHCEH'})"
   ]
  },
  {
   "cell_type": "code",
   "execution_count": null,
   "metadata": {},
   "outputs": [],
   "source": [
    "# len() for a set\n",
    "len({1, 2, 3, 6, 7, 8})"
   ]
  },
  {
   "cell_type": "markdown",
   "metadata": {},
   "source": [
    "### 9.4 Class Polymorphism"
   ]
  },
  {
   "cell_type": "markdown",
   "metadata": {},
   "source": [
    "We can use the concept of polymorphism while creating class methods as Python allows different classes to have methods with the same name.\n",
    "\n",
    "We can then later generalize calling these methods by disregarding the object we are working with."
   ]
  },
  {
   "cell_type": "markdown",
   "metadata": {},
   "source": [
    "Let's look at an example..."
   ]
  },
  {
   "cell_type": "code",
   "execution_count": null,
   "metadata": {},
   "outputs": [],
   "source": [
    "class Cat:\n",
    "    def __init__(self, name, age):\n",
    "        self.name = name\n",
    "        self.age = age\n",
    "\n",
    "    def info(self):\n",
    "        print(f\"I am a cat. My name is {self.name}. I am {self.age} years old.\")\n",
    "\n",
    "    def make_sound(self):\n",
    "        print(\"Meow\")\n",
    "\n",
    "class Dog:\n",
    "    def __init__(self, name, age):\n",
    "        self.name = name\n",
    "        self.age = age\n",
    "\n",
    "    def info(self):\n",
    "        print(f\"I am a dog. My name is {self.name}. I am {self.age} years old.\")\n",
    "\n",
    "    def make_sound(self):\n",
    "        print(\"Bark\")\n",
    "\n",
    "cat1 = Cat(\"Kitty\", 2.5)\n",
    "dog1 = Dog(\"Fluffy\", 4)"
   ]
  },
  {
   "cell_type": "code",
   "execution_count": null,
   "metadata": {},
   "outputs": [],
   "source": [
    "for animal in (cat1, dog1):\n",
    "    animal.make_sound()\n",
    "    animal.info()\n",
    "    animal.make_sound()"
   ]
  },
  {
   "cell_type": "markdown",
   "metadata": {},
   "source": [
    "Here, we have created two classes `Cat` and `Dog`. They share a similar structure and have the same method names `info()` and `make_sound()`."
   ]
  },
  {
   "cell_type": "markdown",
   "metadata": {},
   "source": [
    "However, we are able to call the corresponding methods of those instances using a common `animal` variable. It is possible due to Polymorphism."
   ]
  },
  {
   "cell_type": "markdown",
   "metadata": {},
   "source": [
    "### 9.5 Polymorphism and Inheritance"
   ]
  },
  {
   "cell_type": "markdown",
   "metadata": {},
   "source": [
    "We can redefine certain methods and attributes specifically to fit the child class, which is known as **Method Overriding**.\n",
    "\n",
    "Polymorphism allows us to access these overridden methods and attributes that have the same name as the parent class."
   ]
  },
  {
   "cell_type": "code",
   "execution_count": null,
   "metadata": {},
   "outputs": [],
   "source": [
    "class Shape:\n",
    "    def __init__(self, name):\n",
    "        self.name = name\n",
    "\n",
    "    def area(self):\n",
    "        pass\n",
    "\n",
    "    def fact(self):\n",
    "        return \"I am a two-dimensional shape.\"\n",
    "\n",
    "    def __str__(self):\n",
    "        return self.name\n",
    "\n",
    "class Square(Shape):\n",
    "    def __init__(self, length):\n",
    "        super().__init__(\"Square\")\n",
    "        self.length = length\n",
    "\n",
    "    def area(self):\n",
    "        return self.length ** 2\n",
    "\n",
    "    def fact(self):\n",
    "        return \"Squares have each angle equal to 90 degrees.\"\n",
    "\n",
    "class Circle(Shape):\n",
    "    def __init__(self, radius):\n",
    "        super().__init__(\"Circle\")\n",
    "        self.radius = radius\n",
    "\n",
    "    def area(self):\n",
    "        return (22 / 7) * self.radius ** 2 \n",
    "\n",
    "a = Square(4)\n",
    "b = Circle(7)"
   ]
  },
  {
   "cell_type": "code",
   "execution_count": null,
   "metadata": {},
   "outputs": [],
   "source": [
    "# def str_ipython_shape():\n",
    "#   '''Kindly ignore this cell\n",
    "#   It is used a method that changes the setting of\n",
    "#   the jupyter notebook to make __str__() function work\n",
    "#   as expected.\n",
    "# '''\n",
    "#   formatter = get_ipython().display_formatter.formatters['text/plain'].for_type(\n",
    "#   Shape,\n",
    "#   lambda obj, p, cycle: p.text(str(obj) if not cycle else '...')\n",
    "#   )\n",
    "\n",
    "# str_ipython_shape()"
   ]
  },
  {
   "cell_type": "code",
   "execution_count": null,
   "metadata": {},
   "outputs": [],
   "source": [
    "print(b)\n",
    "print(b.fact())\n",
    "print(b.area())"
   ]
  },
  {
   "cell_type": "code",
   "execution_count": null,
   "metadata": {},
   "outputs": [],
   "source": [
    "print(a)\n",
    "print(a.fact())\n",
    "print(a.area())"
   ]
  },
  {
   "cell_type": "markdown",
   "metadata": {},
   "source": [
    "Here, we can see that the methods such as `__str__()`, which have not been overridden in the child classes, are used from the parent class.\n",
    "\n",
    "Due to polymorphism, the Python interpreter automatically recognizes that the `fact()` method for object `a`(`Square` class) is overridden. So, it uses the one defined in the child class.\n",
    "\n",
    "On the other hand, since the `fact()` method for object b isn't overridden, it is used from the Parent `Shape` class."
   ]
  },
  {
   "cell_type": "markdown",
   "metadata": {},
   "source": [
    "**Note**: **Method Overloading**, a way to create multiple methods with the same name but different arguments, is not possible in Python."
   ]
  },
  {
   "cell_type": "markdown",
   "metadata": {},
   "source": [
    "## 10. Operator Overloading"
   ]
  },
  {
   "cell_type": "markdown",
   "metadata": {},
   "source": [
    "Python operators work for built-in classes. But the same operator behaves differently with different types. \n",
    "\n",
    "For example, the `+` operator will perform arithmetic addition on two numbers, merge two lists, or concatenate two strings.\n",
    "\n",
    "This feature in Python that allows the same operator to have different meaning according to the context is called operator overloading."
   ]
  },
  {
   "cell_type": "markdown",
   "metadata": {},
   "source": [
    "What happens when we use them with objects of a user-defined class?"
   ]
  },
  {
   "cell_type": "markdown",
   "metadata": {},
   "source": [
    "Let's see an example where we have defined a class `ComplexNumber` which is used to represent complex numbers."
   ]
  },
  {
   "cell_type": "code",
   "execution_count": null,
   "metadata": {},
   "outputs": [],
   "source": [
    "class ComplexNumber:\n",
    "    def __init__(self, real, imag):\n",
    "        self.real = real\n",
    "        self.imag = imag\n",
    "\n",
    "# kindly ignore the below function call\n",
    "# str_ipython()\n",
    "c1 = ComplexNumber(3, 4)\n",
    "c2 = ComplexNumber(6, 8)"
   ]
  },
  {
   "cell_type": "code",
   "execution_count": null,
   "metadata": {},
   "outputs": [],
   "source": [
    "# def str_ipython_complex():\n",
    "#   '''Kindly ignore this cell\n",
    "#   It is used a method that changes the setting of\n",
    "#   the jupyter notebook to make __str__() function work\n",
    "#   as expected.\n",
    "# '''\n",
    "#   formatter = get_ipython().display_formatter.formatters['text/plain'].for_type(\n",
    "#   ComplexNumber,\n",
    "#   lambda obj, p, cycle: p.text(str(obj) if not cycle else '...')\n",
    "#   )\n",
    "\n",
    "# str_ipython_complex()"
   ]
  },
  {
   "cell_type": "code",
   "execution_count": null,
   "metadata": {},
   "outputs": [],
   "source": [
    "print(c1 + c2)"
   ]
  },
  {
   "cell_type": "markdown",
   "metadata": {},
   "source": [
    "Here, we can see that a `TypeError` was raised, since Python didn't know how to add two `ComplexNumber` objects together.\n",
    "\n",
    "This task can be accomplished by the concept of Operator Overloading.\n",
    "\n",
    "But we before that we need to discuss about Python Special Functions."
   ]
  },
  {
   "cell_type": "markdown",
   "metadata": {},
   "source": [
    "### 10.1 Python Special Functions"
   ]
  },
  {
   "cell_type": "markdown",
   "metadata": {},
   "source": [
    "Class functions that begin with double underscore `__` are called special functions in Python.\n",
    "\n",
    "These functions are not the typical functions that we define for a class. \n",
    "\n",
    "Think of a special function that we discussed already?\n",
    "\n",
    "If you guessed `__init__()`, You are right! 😁\n",
    "\n",
    "Using special functions, we can make our class compatible with built-in functions."
   ]
  },
  {
   "cell_type": "code",
   "execution_count": null,
   "metadata": {},
   "outputs": [],
   "source": [
    "print(c1)"
   ]
  },
  {
   "cell_type": "markdown",
   "metadata": {},
   "source": [
    "Suppose we want the `print()` function to print the coordinates of the Point object instead of what we got. \n",
    "\n",
    "We can define a `__str__()` method in our class that controls how the object gets printed."
   ]
  },
  {
   "cell_type": "code",
   "execution_count": null,
   "metadata": {},
   "outputs": [],
   "source": [
    "class ComplexNumber:\n",
    "\n",
    "    def __init__(self, real, imag):\n",
    "        self.real = real\n",
    "        self.imag = imag\n",
    "\n",
    "    def __str__(self):\n",
    "        return f'{self.real} + {self.imag}j'\n",
    "\n",
    "# also ignore the below function call\n",
    "# str_ipython_complex()\n",
    "c1 = ComplexNumber(3, 4)\n",
    "c2 = ComplexNumber(6, 8)"
   ]
  },
  {
   "cell_type": "code",
   "execution_count": null,
   "metadata": {},
   "outputs": [],
   "source": [
    "print(c1)"
   ]
  },
  {
   "cell_type": "code",
   "execution_count": null,
   "metadata": {},
   "outputs": [],
   "source": [
    "str(c1)"
   ]
  },
  {
   "cell_type": "markdown",
   "metadata": {},
   "source": [
    "So, when you use `str(c1)`, Python internally calls the `c1.__str__()` method. Hence the name, special functions.\n",
    "\n",
    "Now let's go back to operator overloading."
   ]
  },
  {
   "cell_type": "markdown",
   "metadata": {},
   "source": [
    "### 10.2 Overloading Arithmetic Operators"
   ]
  },
  {
   "cell_type": "markdown",
   "metadata": {},
   "source": [
    "#### 10.2.1 + operator"
   ]
  },
  {
   "cell_type": "markdown",
   "metadata": {},
   "source": [
    "To overload the `+` operator, we will need to implement `__add__()` function in the class.\n",
    "\n",
    "It would ideal to return an object of the same class."
   ]
  },
  {
   "cell_type": "markdown",
   "metadata": {},
   "source": [
    "#### 10.2.2 - operator"
   ]
  },
  {
   "cell_type": "markdown",
   "metadata": {},
   "source": [
    "To overload the `-` operator, we will need to implement `__sub__()` function in the class.\n",
    "\n",
    "It would ideal to return an object of the same class."
   ]
  },
  {
   "cell_type": "markdown",
   "metadata": {},
   "source": [
    "#### 10.2.3 * operator"
   ]
  },
  {
   "cell_type": "markdown",
   "metadata": {},
   "source": [
    "To overload the `*` operator, we will need to implement `__mul__()` function in the class.\n",
    "\n",
    "It would ideal to return an object of the same class."
   ]
  },
  {
   "cell_type": "markdown",
   "metadata": {},
   "source": [
    "Let's use these functions to extend the functionality of our user-defined `ComplexNumber` class..."
   ]
  },
  {
   "cell_type": "code",
   "execution_count": null,
   "metadata": {},
   "outputs": [],
   "source": [
    "class ComplexNumber:\n",
    "\n",
    "    def __init__(self, real, imag):\n",
    "        self.real = real\n",
    "        self.imag = imag\n",
    "\n",
    "    def __add__(self, other):\n",
    "        real = self.real + other.real\n",
    "        imag = self.imag + other.imag\n",
    "        return ComplexNumber(real, imag)\n",
    "\n",
    "    def __sub__(self, other):\n",
    "        real = self.real - other.real\n",
    "        imag = self.imag - other.imag\n",
    "        return ComplexNumber(real, imag)\n",
    "\n",
    "    def __mul__(self, other):\n",
    "        real = self.real * other.real - self.imag * other.imag\n",
    "        imag = self.real * other.imag + self.imag * other.real\n",
    "        return ComplexNumber(real, imag)\n",
    "\n",
    "    def __str__(self):\n",
    "        operator = '+'\n",
    "        if self.imag < 0:\n",
    "            operator = '-'\n",
    "        return f\"{self.real} {operator} {abs(self.imag)}j\"\n",
    "\n",
    "# also ignore the below function call\n",
    "# str_ipython_complex()\n",
    "c1 = ComplexNumber(3, 4)\n",
    "c2 = ComplexNumber(6, 8)"
   ]
  },
  {
   "cell_type": "code",
   "execution_count": null,
   "metadata": {},
   "outputs": [],
   "source": [
    "print(c1 + c2)"
   ]
  },
  {
   "cell_type": "markdown",
   "metadata": {},
   "source": [
    "What actually happens is that, when you use `c1 + c2`, Python calls `c1.__add__(c2)` which in turn is `ComplexNumber.__add__(c1, c2)`. \n",
    "\n",
    "After this, the addition operation is carried out the way we specified."
   ]
  },
  {
   "cell_type": "markdown",
   "metadata": {},
   "source": [
    "Similarly for `c1 - c2` and `c1 * c2`, Python calls `c1.__sub__(c2)` and `c1.__mul__(c2)` respectively."
   ]
  },
  {
   "cell_type": "code",
   "execution_count": null,
   "metadata": {},
   "outputs": [],
   "source": [
    "print(c1 - c2)"
   ]
  },
  {
   "cell_type": "code",
   "execution_count": null,
   "metadata": {},
   "outputs": [],
   "source": [
    "print(c1 * c2)"
   ]
  },
  {
   "cell_type": "markdown",
   "metadata": {},
   "source": [
    "Similarly, we can overload other operators as well. The special functions that we need to implement are tabulated below."
   ]
  },
  {
   "cell_type": "markdown",
   "metadata": {},
   "source": [
    "| Operator | Expression | Internally |\n",
    "| -------- | ---------- | ---------- |\n",
    "| Addition | p1 + p2 | p1.\\_\\_add\\_\\_(p2) |\n",
    "| Subtraction | p1 - p2 | p1.\\_\\_sub\\_\\_(p2) |\n",
    "| Multiplication | p1 * p2 | p1.\\_\\_mul\\_\\_(p2) |\n",
    "| Power | p1 ** p2 | p1.\\_\\_pow\\_\\_(p2) |\n",
    "| Division | p1 / p2 | p1.\\_\\_truediv\\_\\_(p2) |\n",
    "| Floor Division | p1 // p2\t| p1.\\_\\_floordiv\\_\\_(p2) |\n",
    "| Remainder (modulo) | p1 % p2 | p1.\\_\\_mod\\_\\_(p2) |\n",
    "| Bitwise Left Shift | p1 << p2 | p1.\\_\\_lshift\\_\\_(p2) |\n",
    "| Bitwise Right Shift | p1 >> p2 | p1.\\_\\_rshift\\_\\_(p2) |\n",
    "| Bitwise AND | p1 & p2 | p1.\\_\\_and\\_\\_(p2) |\n",
    "| Bitwise OR | p1 \\| p2 | p1.\\_\\_or\\_\\_(p2) |\n",
    "| Bitwise XOR | p1 ^ p2 | p1.\\_\\_xor\\_\\_(p2) |\n",
    "| Bitwise NOT | ~p1 | p1.\\_\\_invert\\_\\_() |"
   ]
  },
  {
   "cell_type": "markdown",
   "metadata": {},
   "source": [
    "### 10.3 Overloading Comparison Operators"
   ]
  },
  {
   "cell_type": "markdown",
   "metadata": {},
   "source": [
    "Python does not limit operator overloading to arithmetic operators only. We can overload comparison operators as well.\n",
    "\n",
    "Suppose we wanted to implement the less than symbol `<`, `>` and `=` symbols in our `ComplexNumber` class."
   ]
  },
  {
   "cell_type": "code",
   "execution_count": null,
   "metadata": {},
   "outputs": [],
   "source": [
    "class ComplexNumber:\n",
    "\n",
    "    def __init__(self, real, imag):\n",
    "        self.real = real\n",
    "        self.imag = imag\n",
    "\n",
    "    def __add__(self, other):\n",
    "        real = self.real + other.real\n",
    "        imag = self.imag + other.imag\n",
    "        return ComplexNumber(real, imag)\n",
    "\n",
    "    def __sub__(self, other):\n",
    "        real = self.real - other.real\n",
    "        imag = self.imag - other.imag\n",
    "        return ComplexNumber(real, imag)\n",
    "\n",
    "    def __mul__(self, other):\n",
    "        real = self.real * other.real - self.imag * other.imag\n",
    "        imag = self.real * other.imag + self.imag * other.real\n",
    "        return ComplexNumber(real, imag)\n",
    "\n",
    "    def __lt__(self, other):\n",
    "        self_mod = self.real ** 2 + self.imag ** 2\n",
    "        other_mod = other.real ** 2 + other.imag ** 2\n",
    "        return self_mod < other_mod\n",
    "\n",
    "    def __gt__(self, other):\n",
    "        self_mod = self.real ** 2 + self.imag ** 2\n",
    "        other_mod = other.real ** 2 + other.imag ** 2\n",
    "        return self_mod > other_mod\n",
    "\n",
    "    def __eq__(self, other):\n",
    "        self_mod = self.real ** 2 + self.imag ** 2\n",
    "        other_mod = other.real ** 2 + other.imag ** 2\n",
    "        return self_mod == other_mod\n",
    "\n",
    "    def __str__(self):\n",
    "        operator = '+'\n",
    "        if self.imag < 0:\n",
    "            operator = '-'\n",
    "        return f\"{self.real} {operator} {abs(self.imag)}j\"\n",
    "\n",
    "# also ignore the below function call\n",
    "# str_ipython()\n",
    "c1 = ComplexNumber(3, 4)\n",
    "c2 = ComplexNumber(6, 8)\n",
    "c3 = ComplexNumber(8, -6)"
   ]
  },
  {
   "cell_type": "code",
   "execution_count": null,
   "metadata": {},
   "outputs": [],
   "source": [
    "print(f'c1 = {c1}')\n",
    "print(f'c2 = {c2}')\n",
    "print(f'c3 = {c3}')"
   ]
  },
  {
   "cell_type": "code",
   "execution_count": null,
   "metadata": {},
   "outputs": [],
   "source": [
    "c1 > c2"
   ]
  },
  {
   "cell_type": "code",
   "execution_count": null,
   "metadata": {},
   "outputs": [],
   "source": [
    "c1 < c2"
   ]
  },
  {
   "cell_type": "code",
   "execution_count": null,
   "metadata": {},
   "outputs": [],
   "source": [
    "c2 == c3"
   ]
  },
  {
   "cell_type": "markdown",
   "metadata": {},
   "source": [
    "Similarly, the special functions that we need to implement, to overload other comparison operators are tabulated below."
   ]
  },
  {
   "cell_type": "markdown",
   "metadata": {},
   "source": [
    "| Operator | Expression | Internally |\n",
    "| -------- | ---------- | ---------- |\n",
    "| Less than | p1 < p2 | p1.\\_\\_lt\\_\\_(p2) |\n",
    "| Less than or equal to | p1 <= p2 | p1.\\_\\_le\\_\\_(p2) |\n",
    "| Equal to | p1 == p2 | p1.\\_\\_eq\\_\\_(p2) |\n",
    "| Not equal to | p1 != p2 | p1.\\_\\_ne\\_\\_(p2) |\n",
    "| Greater than | p1 > p2 | p1.\\_\\_gt\\_\\_(p2) |\n",
    "| Greater than or equal to | p1 >= p2 | p1.\\_\\_ge\\_\\_(p2) | "
   ]
  },
  {
   "cell_type": "markdown",
   "metadata": {},
   "source": [
    "## 11. Key Points of OOP"
   ]
  },
  {
   "cell_type": "markdown",
   "metadata": {},
   "source": [
    "- Object-Oriented Programming makes the program easy to understand as well as efficient.\n",
    "- Since the class is sharable, the code can be reused.\n",
    "- Data is safe and secure with data abstraction.\n",
    "- Polymorphism allows the same interface for different objects, so programmers can write efficient code."
   ]
  },
  {
   "cell_type": "markdown",
   "metadata": {},
   "source": [
    "# That's a wrap up for the Python Training Sessions organised by Coding Club JNTUHCEH! 😁"
   ]
  }
 ],
 "metadata": {
  "interpreter": {
   "hash": "aee8b7b246df8f9039afb4144a1f6fd8d2ca17a180786b69acc140d282b71a49"
  },
  "kernelspec": {
   "display_name": "Python 3.9.1 64-bit",
   "language": "python",
   "name": "python3"
  },
  "language_info": {
   "codemirror_mode": {
    "name": "ipython",
    "version": 3
   },
   "file_extension": ".py",
   "mimetype": "text/x-python",
   "name": "python",
   "nbconvert_exporter": "python",
   "pygments_lexer": "ipython3",
   "version": "3.9.1"
  },
  "orig_nbformat": 4
 },
 "nbformat": 4,
 "nbformat_minor": 2
}
