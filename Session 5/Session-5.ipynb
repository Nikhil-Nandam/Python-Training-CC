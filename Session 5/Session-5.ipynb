{
 "cells": [
  {
   "cell_type": "markdown",
   "metadata": {},
   "source": [
    "# Welcome To Python Training Session by Coding Club JNTUHCEH"
   ]
  },
  {
   "cell_type": "markdown",
   "metadata": {},
   "source": [
    "![Logo](../logo/X.png)"
   ]
  },
  {
   "cell_type": "markdown",
   "metadata": {},
   "source": [
    "## Session 5 - 20/01/2022"
   ]
  },
  {
   "cell_type": "markdown",
   "metadata": {},
   "source": [
    "# Chapter - 5 Files and Exceptions"
   ]
  },
  {
   "cell_type": "markdown",
   "metadata": {},
   "source": [
    "## 1. Files"
   ]
  },
  {
   "cell_type": "markdown",
   "metadata": {},
   "source": [
    "### 1.1 What are Files?"
   ]
  },
  {
   "cell_type": "markdown",
   "metadata": {},
   "source": [
    "A file is a resource for recording data in a storage device, primarily identified by its file name.\n",
    "\n",
    "Files are named locations on disk to store related information.\n",
    "\n",
    "They are used to permanently store data in a non-volatile memory (e.g. hard disk, SSD etc.)."
   ]
  },
  {
   "cell_type": "markdown",
   "metadata": {},
   "source": [
    "### 1.2 Why to use Files?"
   ]
  },
  {
   "cell_type": "markdown",
   "metadata": {},
   "source": [
    "All the operations and results of those performed while executing a program are stored in Main Memory i.e RAM.\n",
    "\n",
    "Since Random Access Memory (RAM) is volatile (which loses its data when the computer is turned off), all the data and results of operations generated when a program is executed will be lost once the program is terminated.\n",
    "\n",
    "So in order to preserve data, we use the concept of files."
   ]
  },
  {
   "cell_type": "markdown",
   "metadata": {},
   "source": [
    "### 1.3 How to use Files? "
   ]
  },
  {
   "cell_type": "markdown",
   "metadata": {},
   "source": [
    "In order, to perform any file operation on a file, the following steps have to be followed.\n",
    "\n",
    "1. Open a file\n",
    "2. Read or Write (Perform File Operation)\n",
    "3. Close the file"
   ]
  },
  {
   "cell_type": "markdown",
   "metadata": {},
   "source": [
    "### 1.4 Opening a File"
   ]
  },
  {
   "cell_type": "markdown",
   "metadata": {},
   "source": [
    "Python has a built-in `open()` function to open a file. \n",
    "\n",
    "This function returns a file object, also called a handle, as it is used to read or modify the file accordingly."
   ]
  },
  {
   "cell_type": "markdown",
   "metadata": {},
   "source": [
    "#### 1.4.1 Syntax of open()"
   ]
  },
  {
   "cell_type": "markdown",
   "metadata": {},
   "source": [
    "The `open()` function has the following syntax."
   ]
  },
  {
   "cell_type": "markdown",
   "metadata": {},
   "source": [
    "&lt;file_handle&gt; = open(filename, mode)"
   ]
  },
  {
   "cell_type": "markdown",
   "metadata": {},
   "source": [
    "#### 1.4.2 File Opening Modes"
   ]
  },
  {
   "cell_type": "markdown",
   "metadata": {},
   "source": [
    "We can specify the mode while opening a file. In mode, we specify whether we want to read `r`, write `w` or append `a` to the file. We can also specify if we want to open the file in text mode or binary mode.\n",
    "\n",
    "The default is reading in text mode. In this mode, we get strings when reading from the file.\n",
    "\n",
    "On the other hand, binary mode returns bytes and this is the mode to be used when dealing with non-text files like images or executable files."
   ]
  },
  {
   "cell_type": "markdown",
   "metadata": {},
   "source": [
    "| Mode | Description |\n",
    "| ---- | ----------- | \n",
    "| r | Open an existing file for a read operation. (default) |\n",
    "| w | Open an existing file for a write operation. If the file already contains some data then it will be overridden. |\n",
    "| a | Open an existing file for append operation. It won’t override existing data. |\n",
    "| r+ | To read and write data into the file. The previous data in the file will not be deleted. |\n",
    "| w+ | To write and read data. It will override existing data. |\n",
    "| a+ | To append and read data from the file. It won’t override existing data. |\n",
    "| t | Opens in text mode. (default) | \n",
    "| b | Opens in binary mode. | "
   ]
  },
  {
   "cell_type": "markdown",
   "metadata": {},
   "source": [
    "Let's try to open a file named `hello.txt`..."
   ]
  },
  {
   "cell_type": "code",
   "execution_count": 1,
   "metadata": {},
   "outputs": [],
   "source": [
    "f = open('hello.txt')"
   ]
  },
  {
   "cell_type": "markdown",
   "metadata": {},
   "source": [
    "Oops, we got an error that the file doesn't exists.\n",
    "\n",
    "This is because the default mode is `r` (read) and read mode doesn't create a new file if the specified one doesn't exist. Instead it raises a FileNotFoundError."
   ]
  },
  {
   "cell_type": "markdown",
   "metadata": {},
   "source": [
    "Alternatively, `w` (write mode) creates a file with the specified name if one doesn't exist."
   ]
  },
  {
   "cell_type": "code",
   "execution_count": 2,
   "metadata": {},
   "outputs": [],
   "source": [
    "f = open('hello.txt', mode='w')"
   ]
  },
  {
   "cell_type": "code",
   "execution_count": 3,
   "metadata": {},
   "outputs": [
    {
     "data": {
      "text/plain": [
       "<_io.TextIOWrapper name='hello.txt' mode='w' encoding='UTF-8'>"
      ]
     },
     "execution_count": 3,
     "metadata": {},
     "output_type": "execute_result"
    }
   ],
   "source": [
    "f"
   ]
  },
  {
   "cell_type": "markdown",
   "metadata": {},
   "source": [
    "### 1.6 Closing a File"
   ]
  },
  {
   "cell_type": "markdown",
   "metadata": {},
   "source": [
    "When we are done with performing operations on the file, we need to properly close the file.\n",
    "\n",
    "Closing a file will free up the resources that were tied with the file. It is done using the `close()` function."
   ]
  },
  {
   "cell_type": "code",
   "execution_count": 4,
   "metadata": {},
   "outputs": [],
   "source": [
    "f.close()"
   ]
  },
  {
   "cell_type": "markdown",
   "metadata": {},
   "source": [
    "When an error occurs while performing an operation on a file, the code execution stops and thus, the `file.close()` will not be executed leaving the file in an **unsafe** state."
   ]
  },
  {
   "cell_type": "markdown",
   "metadata": {},
   "source": [
    "#### 1.6.1 try...finally block"
   ]
  },
  {
   "cell_type": "markdown",
   "metadata": {},
   "source": [
    "The work around for this is to use a `try...finally` block.\n",
    "\n",
    "We discuss about Exceptions and Exception Handling in a few moments from now...\n",
    "\n",
    "For now, just remember that the `file.close()` operation must be placed in the `finally` block, if we use the `try...finally` block."
   ]
  },
  {
   "cell_type": "code",
   "execution_count": 5,
   "metadata": {},
   "outputs": [],
   "source": [
    "try:\n",
    "    f = open('hello.txt', mode='w')\n",
    "    # perform file operations\n",
    "finally:\n",
    "    f.close()"
   ]
  },
  {
   "cell_type": "markdown",
   "metadata": {},
   "source": [
    "#### 1.6.2 `with` statement"
   ]
  },
  {
   "cell_type": "markdown",
   "metadata": {},
   "source": [
    "`with` is a keyword in Python.\n",
    "\n",
    "The best way to close a file is by using the with statement. This ensures that the file is closed when the block inside the with statement is exited.\n",
    "\n",
    "We don't need to explicitly call the `close()` method. It is done implicitly."
   ]
  },
  {
   "cell_type": "code",
   "execution_count": 6,
   "metadata": {},
   "outputs": [],
   "source": [
    "with open('hello.txt', mode='w') as file_handle:\n",
    "    # perform file operations\n",
    "    pass"
   ]
  },
  {
   "cell_type": "markdown",
   "metadata": {},
   "source": [
    "### 1.7 Writing to a File"
   ]
  },
  {
   "cell_type": "markdown",
   "metadata": {},
   "source": [
    "In order to write into a file in Python, we need to open it in either write mode `w` or append mode `a`."
   ]
  },
  {
   "cell_type": "markdown",
   "metadata": {},
   "source": [
    "**Note**: We need to be careful with the w mode, as it will overwrite into the file if it already exists. Due to this, all the previous data are erased."
   ]
  },
  {
   "cell_type": "markdown",
   "metadata": {},
   "source": [
    "#### 1.7.1 write() method"
   ]
  },
  {
   "cell_type": "markdown",
   "metadata": {},
   "source": [
    "We use the `write()` method to write a string or sequence of bytes (binary files).\n",
    "\n",
    "This method returns the number of characters written to the file."
   ]
  },
  {
   "cell_type": "code",
   "execution_count": 7,
   "metadata": {},
   "outputs": [],
   "source": [
    "# using the write mode 'w'\n",
    "with open('hello.txt', 'w') as f:\n",
    "    f.write(\"Hello World!\")\n",
    "    f.write(\"Hello World!\")\n",
    "    f.write(\"Hello World!\")"
   ]
  },
  {
   "cell_type": "markdown",
   "metadata": {},
   "source": [
    "Let's run this again with a small change..."
   ]
  },
  {
   "cell_type": "code",
   "execution_count": 8,
   "metadata": {},
   "outputs": [],
   "source": [
    "# using the write mode 'w'\n",
    "with open('hello.txt', 'w') as f:\n",
    "    f.write(\"Hello World!\\n\")\n",
    "    f.write(\"Hello World!\\n\")\n",
    "    f.write(\"Hello World!\\n\")"
   ]
  },
  {
   "cell_type": "markdown",
   "metadata": {},
   "source": [
    "Notice that the contents of the file that were present previosly were erased rather overwritten."
   ]
  },
  {
   "cell_type": "code",
   "execution_count": 9,
   "metadata": {},
   "outputs": [
    {
     "name": "stdout",
     "output_type": "stream",
     "text": [
      "Number of characters written = 26\n"
     ]
    }
   ],
   "source": [
    "# using the append mode 'a'\n",
    "with open('hello.txt', 'a') as f:\n",
    "    value = f.write(\"Hello World!\\n\")\n",
    "    value += f.write(\"Hello World!\\n\")\n",
    "    print(f\"Number of characters written = {value}\")"
   ]
  },
  {
   "cell_type": "markdown",
   "metadata": {},
   "source": [
    "### 1.8 Reading Files"
   ]
  },
  {
   "cell_type": "markdown",
   "metadata": {},
   "source": [
    "To read from a file, we need to use the read mode `r`."
   ]
  },
  {
   "cell_type": "markdown",
   "metadata": {},
   "source": [
    "#### 1.8.1 read() method"
   ]
  },
  {
   "cell_type": "markdown",
   "metadata": {},
   "source": [
    "We can use the `read(size)` method to read in the size number of data. \n",
    "\n",
    "If the `size` parameter is not specified, it reads and returns up to the end of the file."
   ]
  },
  {
   "cell_type": "code",
   "execution_count": 10,
   "metadata": {},
   "outputs": [
    {
     "data": {
      "text/plain": [
       "'Hello World!\\nHello World!\\nHello World!\\nHello World!\\nHello World!\\n'"
      ]
     },
     "execution_count": 10,
     "metadata": {},
     "output_type": "execute_result"
    }
   ],
   "source": [
    "f = open('hello.txt', mode='r')\n",
    "f.read()"
   ]
  },
  {
   "cell_type": "code",
   "execution_count": 11,
   "metadata": {},
   "outputs": [],
   "source": [
    "f.close()"
   ]
  },
  {
   "cell_type": "code",
   "execution_count": 12,
   "metadata": {},
   "outputs": [
    {
     "data": {
      "text/plain": [
       "'Hello'"
      ]
     },
     "execution_count": 12,
     "metadata": {},
     "output_type": "execute_result"
    }
   ],
   "source": [
    "f = open('hello.txt', mode='r')\n",
    "f.read(5)"
   ]
  },
  {
   "cell_type": "code",
   "execution_count": 13,
   "metadata": {},
   "outputs": [
    {
     "data": {
      "text/plain": [
       "' Worl'"
      ]
     },
     "execution_count": 13,
     "metadata": {},
     "output_type": "execute_result"
    }
   ],
   "source": [
    "f.read(5)"
   ]
  },
  {
   "cell_type": "markdown",
   "metadata": {},
   "source": [
    "#### 1.8.2 Read Pointer and Write Pointer to a File"
   ]
  },
  {
   "cell_type": "markdown",
   "metadata": {},
   "source": [
    "Each file that is opened for reading or writing maintains and updates 2 values, namely Read pointer and Write pointer."
   ]
  },
  {
   "cell_type": "markdown",
   "metadata": {},
   "source": [
    "##### 1.8.2.1 Read Pointer"
   ]
  },
  {
   "cell_type": "markdown",
   "metadata": {},
   "source": [
    "The Read Pointer is an integer value that stores the position of the character to be read next.\n",
    "\n",
    "The position is the offset of the character from the start of the file."
   ]
  },
  {
   "cell_type": "markdown",
   "metadata": {},
   "source": [
    "##### 1.8.2.2 Write Pointer"
   ]
  },
  {
   "cell_type": "markdown",
   "metadata": {},
   "source": [
    "The Write Pointer is an integer value that stores the position of the file where the next character is to be written.\n",
    "\n",
    "The position is the offset of the character from the start of the file."
   ]
  },
  {
   "cell_type": "markdown",
   "metadata": {},
   "source": [
    "#### 1.8.3 tell() method"
   ]
  },
  {
   "cell_type": "markdown",
   "metadata": {},
   "source": [
    "The `tell()` method returns the current position of the pointer of the file."
   ]
  },
  {
   "cell_type": "code",
   "execution_count": 14,
   "metadata": {},
   "outputs": [
    {
     "data": {
      "text/plain": [
       "10"
      ]
     },
     "execution_count": 14,
     "metadata": {},
     "output_type": "execute_result"
    }
   ],
   "source": [
    "f.tell()"
   ]
  },
  {
   "cell_type": "markdown",
   "metadata": {},
   "source": [
    "#### 1.8.4 seek() method"
   ]
  },
  {
   "cell_type": "markdown",
   "metadata": {},
   "source": [
    "The `seek()` method is used to change current position of the pointer of the file."
   ]
  },
  {
   "cell_type": "code",
   "execution_count": 15,
   "metadata": {},
   "outputs": [
    {
     "data": {
      "text/plain": [
       "0"
      ]
     },
     "execution_count": 15,
     "metadata": {},
     "output_type": "execute_result"
    }
   ],
   "source": [
    "f.seek(0)"
   ]
  },
  {
   "cell_type": "code",
   "execution_count": 16,
   "metadata": {},
   "outputs": [
    {
     "data": {
      "text/plain": [
       "'Hello'"
      ]
     },
     "execution_count": 16,
     "metadata": {},
     "output_type": "execute_result"
    }
   ],
   "source": [
    "f.read(5)"
   ]
  },
  {
   "cell_type": "code",
   "execution_count": 17,
   "metadata": {},
   "outputs": [],
   "source": [
    "f.close()"
   ]
  },
  {
   "cell_type": "code",
   "execution_count": 18,
   "metadata": {},
   "outputs": [],
   "source": [
    "with open('lines.txt', mode='w') as lines_file:\n",
    "    lines_file.write('Hello Everyone\\n')\n",
    "    lines_file.write('This file contains\\n')\n",
    "    lines_file.write('Various lines where\\n')\n",
    "    lines_file.write('Each line is different\\n')\n",
    "    lines_file.write('Unlike hello.txt file!!!\\n')"
   ]
  },
  {
   "cell_type": "markdown",
   "metadata": {},
   "source": [
    "#### 1.8.5 for-loop"
   ]
  },
  {
   "cell_type": "markdown",
   "metadata": {},
   "source": [
    "We can use a `for-loop` to print the contents of a file line-by-line. \n",
    "\n",
    "This is both efficient as well as fast."
   ]
  },
  {
   "cell_type": "code",
   "execution_count": 19,
   "metadata": {},
   "outputs": [
    {
     "name": "stdout",
     "output_type": "stream",
     "text": [
      "Hello Everyone\n",
      "This file contains\n",
      "Various lines where\n",
      "Each line is different\n",
      "Unlike hello.txt file!!!\n"
     ]
    }
   ],
   "source": [
    "f = open('lines.txt', mode='r')\n",
    "for line in f:\n",
    "    print(line, end=\"\")\n",
    "f.close()"
   ]
  },
  {
   "cell_type": "code",
   "execution_count": 20,
   "metadata": {},
   "outputs": [
    {
     "name": "stdout",
     "output_type": "stream",
     "text": [
      "Hello Everyone\n",
      " This file contains\n",
      " Various lines where\n",
      " Each line is different\n",
      " Unlike hello.txt file!!!\n",
      " "
     ]
    }
   ],
   "source": [
    "with open('lines.txt', mode='r') as f:\n",
    "    for line in f:\n",
    "        print(line, end=' ')"
   ]
  },
  {
   "cell_type": "markdown",
   "metadata": {},
   "source": [
    "In this program, the lines in the file itself include a newline character `\\n`. \n",
    "\n",
    "So, we use the end parameter of the print() function to avoid two newlines when printing."
   ]
  },
  {
   "cell_type": "markdown",
   "metadata": {},
   "source": [
    "#### 1.8.6 readline() method"
   ]
  },
  {
   "cell_type": "markdown",
   "metadata": {},
   "source": [
    "The `readline()` method is used to read individual lines in file."
   ]
  },
  {
   "cell_type": "code",
   "execution_count": 21,
   "metadata": {},
   "outputs": [
    {
     "data": {
      "text/plain": [
       "'Hello Everyone\\n'"
      ]
     },
     "execution_count": 21,
     "metadata": {},
     "output_type": "execute_result"
    }
   ],
   "source": [
    "f = open('lines.txt', mode='r')\n",
    "f.readline()"
   ]
  },
  {
   "cell_type": "code",
   "execution_count": 22,
   "metadata": {},
   "outputs": [
    {
     "data": {
      "text/plain": [
       "'This file contains\\n'"
      ]
     },
     "execution_count": 22,
     "metadata": {},
     "output_type": "execute_result"
    }
   ],
   "source": [
    "f.readline()"
   ]
  },
  {
   "cell_type": "code",
   "execution_count": 23,
   "metadata": {},
   "outputs": [
    {
     "data": {
      "text/plain": [
       "'Various lines where\\n'"
      ]
     },
     "execution_count": 23,
     "metadata": {},
     "output_type": "execute_result"
    }
   ],
   "source": [
    "f.readline()"
   ]
  },
  {
   "cell_type": "code",
   "execution_count": 24,
   "metadata": {},
   "outputs": [
    {
     "data": {
      "text/plain": [
       "'Each line is different\\n'"
      ]
     },
     "execution_count": 24,
     "metadata": {},
     "output_type": "execute_result"
    }
   ],
   "source": [
    "f.readline()"
   ]
  },
  {
   "cell_type": "code",
   "execution_count": 25,
   "metadata": {},
   "outputs": [],
   "source": [
    "f.close()"
   ]
  },
  {
   "cell_type": "markdown",
   "metadata": {},
   "source": [
    "#### 1.8.7 readlines() method"
   ]
  },
  {
   "cell_type": "markdown",
   "metadata": {},
   "source": [
    "The `readlines()` returns a list of lines present in the file specified."
   ]
  },
  {
   "cell_type": "code",
   "execution_count": 26,
   "metadata": {},
   "outputs": [
    {
     "name": "stdout",
     "output_type": "stream",
     "text": [
      "['Hello Everyone\\n', 'This file contains\\n', 'Various lines where\\n', 'Each line is different\\n', 'Unlike hello.txt file!!!\\n']\n"
     ]
    }
   ],
   "source": [
    "with open('lines.txt', mode='r') as lines_file:\n",
    "    lines = lines_file.readlines()\n",
    "    print(lines)"
   ]
  },
  {
   "cell_type": "markdown",
   "metadata": {},
   "source": [
    "We can do all the same functions (reading, writing) with binary files as well, not just text files."
   ]
  },
  {
   "cell_type": "markdown",
   "metadata": {},
   "source": [
    "#### 1.8.8 Counting number of lines in a File"
   ]
  },
  {
   "cell_type": "markdown",
   "metadata": {},
   "source": [
    "There are several ways using which we can count the number of lines in a file."
   ]
  },
  {
   "cell_type": "markdown",
   "metadata": {},
   "source": [
    "##### 1.8.8.1 for-loop"
   ]
  },
  {
   "cell_type": "markdown",
   "metadata": {},
   "source": [
    "We can use a `for-loop` with a counter variable to count the number of variables in a file."
   ]
  },
  {
   "cell_type": "code",
   "execution_count": 27,
   "metadata": {},
   "outputs": [
    {
     "name": "stdout",
     "output_type": "stream",
     "text": [
      "Number of lines in the file 'lines.txt' = 5\n"
     ]
    }
   ],
   "source": [
    "num_lines = 0\n",
    "\n",
    "with open('lines.txt', mode='r') as lines_file:\n",
    "    for line in lines_file:\n",
    "        num_lines += 1\n",
    "\n",
    "print(f'Number of lines in the file \\'lines.txt\\' = {num_lines}')"
   ]
  },
  {
   "cell_type": "markdown",
   "metadata": {},
   "source": [
    "##### 1.8.8.2 readlines() method"
   ]
  },
  {
   "cell_type": "markdown",
   "metadata": {},
   "source": [
    "We can use `len()` function along with the `readlines()` method to count the number of lines in a file."
   ]
  },
  {
   "cell_type": "code",
   "execution_count": 28,
   "metadata": {},
   "outputs": [
    {
     "name": "stdout",
     "output_type": "stream",
     "text": [
      "Number of lines in the file 'lines.txt' = 5\n"
     ]
    }
   ],
   "source": [
    "lines = None\n",
    "\n",
    "with open('lines.txt', mode='r') as lines_file:\n",
    "    lines = lines_file.readlines()\n",
    "\n",
    "print(f'Number of lines in the file \\'lines.txt\\' = {len(lines)}')"
   ]
  },
  {
   "cell_type": "markdown",
   "metadata": {},
   "source": [
    "## 2. Errors, Exceptions and Exception Handling"
   ]
  },
  {
   "cell_type": "markdown",
   "metadata": {},
   "source": [
    "### 2.1 Errors"
   ]
  },
  {
   "cell_type": "markdown",
   "metadata": {},
   "source": [
    "#### 2.1.1 What is an Error?"
   ]
  },
  {
   "cell_type": "markdown",
   "metadata": {},
   "source": [
    "An error is an event, which occurs during the execution of a program that disrupts the normal flow of the program's instructions. \n",
    "\n",
    "In general, when a Python script encounters a situation that it cannot cope with, it raises an error. "
   ]
  },
  {
   "cell_type": "markdown",
   "metadata": {},
   "source": [
    "#### 2.1.2 Syntax Errors"
   ]
  },
  {
   "cell_type": "markdown",
   "metadata": {},
   "source": [
    "Error caused by not following the proper structure (syntax) of the language is called syntax error or parsing error."
   ]
  },
  {
   "cell_type": "code",
   "execution_count": 29,
   "metadata": {},
   "outputs": [
    {
     "ename": "SyntaxError",
     "evalue": "invalid syntax (<ipython-input-29-7a8a49ad5eea>, line 1)",
     "output_type": "error",
     "traceback": [
      "\u001b[0;36m  File \u001b[0;32m\"<ipython-input-29-7a8a49ad5eea>\"\u001b[0;36m, line \u001b[0;32m1\u001b[0m\n\u001b[0;31m    for i in range(10)\u001b[0m\n\u001b[0m                      ^\u001b[0m\n\u001b[0;31mSyntaxError\u001b[0m\u001b[0;31m:\u001b[0m invalid syntax\n"
     ]
    }
   ],
   "source": [
    "for i in range(10)\n",
    "    print(i)"
   ]
  },
  {
   "cell_type": "markdown",
   "metadata": {},
   "source": [
    "### 2.2 Exceptions"
   ]
  },
  {
   "cell_type": "markdown",
   "metadata": {},
   "source": [
    "Errors that occur at runtime (after passing the syntax test) are called **exceptions** or **logical errors**."
   ]
  },
  {
   "cell_type": "markdown",
   "metadata": {},
   "source": [
    "We have seen above that when we tried to open a non-existent file for reading, a **FileNotFoundError** has been raised.\n",
    "\n",
    "A **ZeroDivisionError** is raised when we try to divide a number by 0."
   ]
  },
  {
   "cell_type": "markdown",
   "metadata": {},
   "source": [
    "Whenever these types of runtime errors occur, Python creates an exception object. \n",
    "\n",
    "If not handled properly, it prints a traceback to that error along with some details about why that error occurred."
   ]
  },
  {
   "cell_type": "code",
   "execution_count": null,
   "metadata": {},
   "outputs": [],
   "source": [
    "5 / 0"
   ]
  },
  {
   "cell_type": "code",
   "execution_count": null,
   "metadata": {},
   "outputs": [],
   "source": [
    "f = open('non-existent.txt')"
   ]
  },
  {
   "cell_type": "markdown",
   "metadata": {},
   "source": [
    "#### 2.2.2 Built-in Exceptions"
   ]
  },
  {
   "cell_type": "markdown",
   "metadata": {},
   "source": [
    "Illegal operations can raise exceptions. There are plenty of built-in exceptions in Python that are raised when corresponding errors occur. "
   ]
  },
  {
   "cell_type": "markdown",
   "metadata": {},
   "source": [
    "We can view all the built-in exceptions using the built-in `local()` function as follows."
   ]
  },
  {
   "cell_type": "code",
   "execution_count": null,
   "metadata": {},
   "outputs": [],
   "source": [
    "print(dir(locals()['__builtins__']))"
   ]
  },
  {
   "cell_type": "markdown",
   "metadata": {},
   "source": [
    "Below are listed a few of the most common exceptions that are encountered."
   ]
  },
  {
   "cell_type": "markdown",
   "metadata": {},
   "source": [
    "| Exception | Cause of Error | \n",
    "| --------- | -------------- |\n",
    "| AssertionError |Raised when an assert statement fails. |\n",
    "| AttributeError |Raised when attribute assignment or reference fails. |\n",
    "| EOFError | Raised when the input() function hits end-of-file condition. |\n",
    "| FloatingPointError | Raised when a floating point operation fails. |\n",
    "| GeneratorExit | Raise when a generator's close() method is called. |\n",
    "| ImportError | Raised when the imported module is not found. |\n",
    "| IndexError | Raised when the index of a sequence is out of range. | \n",
    "| KeyError | Raised when a key is not found in a dictionary. |\n",
    "| KeyboardInterrupt | Raised when the user hits the interrupt key (Ctrl+C or Delete). |\n",
    "| MemoryError | Raised when an operation runs out of memory. |\n",
    "| NameError | Raised when a variable is not found in local or global scope. |\n",
    "| NotImplementedError | Raised by abstract methods. |\n",
    "| OSError | Raised when system operation causes system related error. |\n",
    "| OverflowError | Raised when the result of an arithmetic operation is too large to be represented. |\n",
    "| ReferenceError | Raised when a weak reference proxy is used to access a garbage collected referent. |\n",
    "| RuntimeError | Raised when an error does not fall under any other category. |\n",
    "| StopIteration | Raised by next() function to indicate that there is no further item to be returned by iterator. |\n",
    "| SyntaxError | Raised by parser when syntax error is encountered. |\n",
    "| IndentationError | Raised when there is incorrect indentation. |\n",
    "| TabError | Raised when indentation consists of inconsistent tabs and spaces. |\n",
    "| SystemError | Raised when interpreter detects internal error. |\n",
    "| SystemExit | Raised by sys.exit() function. |\n",
    "| TypeError | Raised when a function or operation is applied to an object of incorrect type. |\n",
    "| UnboundLocalError | Raised when a reference is made to a local variable in a function or method, but no value has been bound to that variable. |\n",
    "| UnicodeError | Raised when a Unicode-related encoding or decoding error occurs. |\n",
    "| UnicodeEncodeError | Raised when a Unicode-related error occurs during encoding. |\n",
    "| UnicodeDecodeError | Raised when a Unicode-related error occurs during decoding. |\n",
    "| UnicodeTranslateError | Raised when a Unicode-related error occurs during translating. |\n",
    "| ValueError | Raised when a function gets an argument of correct type but improper value. |\n",
    "| ZeroDivisionError | Raised when the second operand of division or modulo operation is zero. |"
   ]
  },
  {
   "cell_type": "markdown",
   "metadata": {},
   "source": [
    "### 2.3 Exception Handling"
   ]
  },
  {
   "cell_type": "markdown",
   "metadata": {},
   "source": [
    "Python has many built-in exceptions that are raised when your program encounters an error (something in the program goes wrong).\n",
    "\n",
    "When these exceptions occur, the Python interpreter stops the current process and passes it to the calling process until it is handled. If not handled, the program will crash."
   ]
  },
  {
   "cell_type": "markdown",
   "metadata": {},
   "source": [
    "#### 2.3.1 Catching exceptions"
   ]
  },
  {
   "cell_type": "markdown",
   "metadata": {},
   "source": [
    "Exceptions can be handled using a `try` statement.\n",
    "\n",
    "The critical operation which can raise an exception is placed inside the `try` clause. The code that handles the exceptions is written in the `except` clause.\n",
    "\n",
    "We can thus choose what operations to perform once we have caught the exception. \n",
    "\n",
    "`try` and `except` are keywords in Python."
   ]
  },
  {
   "cell_type": "markdown",
   "metadata": {},
   "source": [
    "The syntax of `try...except` block is as follows..."
   ]
  },
  {
   "cell_type": "markdown",
   "metadata": {},
   "source": [
    "try:<br>\n",
    "&emsp;lines of code that might raise an Exception<br>\n",
    "except &lt;Exception&gt; as &lt;alias&gt;:<br>\n",
    "&emsp;Handling the Exception"
   ]
  },
  {
   "cell_type": "markdown",
   "metadata": {},
   "source": [
    "An example is shown below..."
   ]
  },
  {
   "cell_type": "code",
   "execution_count": null,
   "metadata": {},
   "outputs": [],
   "source": [
    "try:\n",
    "    print('Inside try block...')\n",
    "    value_by_0 = 1 / 0\n",
    "    print('Inside try block but after the line that raises exception...')\n",
    "except Exception:\n",
    "    print('Inside except block...')\n",
    "\n",
    "print('Outside try...else block...')"
   ]
  },
  {
   "cell_type": "markdown",
   "metadata": {},
   "source": [
    "Without `try...except` block the same example would result in an error!!!"
   ]
  },
  {
   "cell_type": "code",
   "execution_count": null,
   "metadata": {},
   "outputs": [],
   "source": [
    "# try:\n",
    "print('Inside try block...')\n",
    "value_by_0 = 1 / 0\n",
    "print('Inside try block but after the line that raises exception...')\n",
    "# except Exception:\n",
    "print('Inside except block...')\n",
    "\n",
    "print('Outside try...else block...')"
   ]
  },
  {
   "cell_type": "markdown",
   "metadata": {},
   "source": [
    "#### 2.3.2 Catching All Exceptions"
   ]
  },
  {
   "cell_type": "markdown",
   "metadata": {},
   "source": [
    "We can use `except Exception` to catch **any** exception that is raised within the `try` block.\n",
    "\n",
    "An alias for the Exception is optional."
   ]
  },
  {
   "cell_type": "markdown",
   "metadata": {},
   "source": [
    "We can use the `__class__` attribute of the Exception to find out what exception is raised to be precise."
   ]
  },
  {
   "cell_type": "code",
   "execution_count": null,
   "metadata": {},
   "outputs": [],
   "source": [
    "try:\n",
    "    print('Inside try block...')\n",
    "    value_by_0 = 1 / 0\n",
    "    print('Inside try block but after the line that raises exception...')\n",
    "except Exception as e:\n",
    "    print('Inside except block...')\n",
    "    print(f'The exception raised is {e.__class__}')\n",
    "\n",
    "print('Outside try...else block...')"
   ]
  },
  {
   "cell_type": "markdown",
   "metadata": {},
   "source": [
    "#### 2.3.3 Catching Specific Exceptions"
   ]
  },
  {
   "cell_type": "markdown",
   "metadata": {},
   "source": [
    "In the above example, we did not mention any specific exception in the except clause.\n",
    "\n",
    "This is not a good programming practice as it will catch all exceptions and handle every case in the same way. We can specify which exceptions an except clause should catch.\n",
    "\n",
    "A `try` clause can have any number of except clauses to handle different exceptions, however, only one will be executed in case an exception occurs."
   ]
  },
  {
   "cell_type": "code",
   "execution_count": null,
   "metadata": {},
   "outputs": [],
   "source": [
    "try:\n",
    "    print('Inside try block...')\n",
    "    value_by_0 = 1 / 0\n",
    "    print('Inside try block but after the line that raises exception...')\n",
    "except ZeroDivisionError as e:\n",
    "    print('Inside except block...')\n",
    "    print(f'The exception raised is {e.__class__}')\n",
    "\n",
    "print('Outside try...else block...')"
   ]
  },
  {
   "cell_type": "markdown",
   "metadata": {},
   "source": [
    "If we use some other exception in place of ZeroDivisionError, let's see what happens..."
   ]
  },
  {
   "cell_type": "code",
   "execution_count": null,
   "metadata": {},
   "outputs": [],
   "source": [
    "try:\n",
    "    print('Inside try block...')\n",
    "    value_by_0 = 1 / 0\n",
    "    print('Inside try block but after the line that raises exception...')\n",
    "except FileNotFoundError as e:\n",
    "    print('Inside except block...')\n",
    "    print(f'The exception raised is {e.__class__}')\n",
    "\n",
    "print('Outside try...else block...')"
   ]
  },
  {
   "cell_type": "markdown",
   "metadata": {},
   "source": [
    "If an exception is raised and there is no appropriate except block to catch the exception, the error will still be raised."
   ]
  },
  {
   "cell_type": "markdown",
   "metadata": {},
   "source": [
    "We can also use multiple except blocks with each block correspinding one specific exception."
   ]
  },
  {
   "cell_type": "code",
   "execution_count": null,
   "metadata": {},
   "outputs": [],
   "source": [
    "try:\n",
    "    print('Inside try block...')\n",
    "    value_by_0 = 1 / 0\n",
    "    print('Inside try block but after the line that raises exception...')\n",
    "    f = open('non-existent.txt', mode='r')\n",
    "except FileNotFoundError as e:\n",
    "    print('Inside FileNotFoundError except block...')\n",
    "    print(f'The exception raised is {e.__class__}')\n",
    "except ZeroDivisionError as e:\n",
    "    print('Inside ZeroDivisionError except block...')\n",
    "    print(f'The exception raised is {e.__class__}')\n",
    "\n",
    "print('Outside try...else block...')"
   ]
  },
  {
   "cell_type": "markdown",
   "metadata": {},
   "source": [
    "### 2.4 Raising Exceptions"
   ]
  },
  {
   "cell_type": "markdown",
   "metadata": {},
   "source": [
    "We can also manually raise exceptions using the `raise` keyword."
   ]
  },
  {
   "cell_type": "code",
   "execution_count": null,
   "metadata": {},
   "outputs": [],
   "source": [
    "raise ValueError"
   ]
  },
  {
   "cell_type": "markdown",
   "metadata": {},
   "source": [
    "We can also specify more information about the error."
   ]
  },
  {
   "cell_type": "code",
   "execution_count": null,
   "metadata": {},
   "outputs": [],
   "source": [
    "raise TypeError('Raising a TypeError with custom message!')"
   ]
  },
  {
   "cell_type": "code",
   "execution_count": null,
   "metadata": {},
   "outputs": [],
   "source": [
    "try:\n",
    "    a = int(input())\n",
    "    if a <= 0:\n",
    "        raise ValueError('Entered value is not positive!')\n",
    "except ValueError as error:\n",
    "    print(error)"
   ]
  },
  {
   "cell_type": "markdown",
   "metadata": {},
   "source": [
    "### 2.5 try with else clause"
   ]
  },
  {
   "cell_type": "markdown",
   "metadata": {},
   "source": [
    "In some situations, you might want to run a certain block of code if the code block inside `try` ran without any errors. \n",
    "\n",
    "For these cases, you can use the optional `else` keyword with the `try` statement."
   ]
  },
  {
   "cell_type": "code",
   "execution_count": null,
   "metadata": {},
   "outputs": [],
   "source": [
    "try:\n",
    "    a = int(input())\n",
    "    if a <= 0:\n",
    "        raise ValueError('Entered value is not positive!')\n",
    "except ValueError as error:\n",
    "    print('Inside except block implying error has been raised!')\n",
    "    print(error)\n",
    "else:\n",
    "    print('Inside else block implying no error!')\n",
    "    print(f'The value of 1 / {a} = {1 / a}')"
   ]
  },
  {
   "cell_type": "code",
   "execution_count": null,
   "metadata": {},
   "outputs": [],
   "source": [
    "try:\n",
    "    a = int(input())\n",
    "    if a <= 0:\n",
    "        raise ValueError('Entered value is not positive!')\n",
    "except ValueError as error:\n",
    "    print(error)\n",
    "else:\n",
    "    print('Inside else block implying no error!')\n",
    "    print(f'The value of 1 / {a} = {1 / a}')"
   ]
  },
  {
   "cell_type": "markdown",
   "metadata": {},
   "source": [
    "### 2.6 try with finally clause"
   ]
  },
  {
   "cell_type": "markdown",
   "metadata": {},
   "source": [
    "The try statement in Python can have an optional finally clause. \n",
    "\n",
    "This clause is executed no matter what i.e irrespective of Exception being raised.\n",
    "\n",
    "This is useful when some particular code need to be executed no matter what i.e when an exception is raised and when it is not raised."
   ]
  },
  {
   "cell_type": "code",
   "execution_count": null,
   "metadata": {},
   "outputs": [],
   "source": [
    "try:\n",
    "    f = open('hello.txt', mode='r')\n",
    "    # perform file operations\n",
    "finally:\n",
    "    f.close()"
   ]
  },
  {
   "cell_type": "markdown",
   "metadata": {},
   "source": [
    "In the above example, it is important to close the file no matter what happens."
   ]
  },
  {
   "cell_type": "code",
   "execution_count": null,
   "metadata": {},
   "outputs": [],
   "source": [
    "try:\n",
    "    a = int(input())\n",
    "    if a <= 0:\n",
    "        raise ValueError('Entered value is not positive!')\n",
    "except ValueError as error:\n",
    "    print('Inside except block implying error has been raised!')\n",
    "    print(error)\n",
    "finally:\n",
    "    print('Inside finally block!')"
   ]
  },
  {
   "cell_type": "code",
   "execution_count": null,
   "metadata": {},
   "outputs": [],
   "source": [
    "try:\n",
    "    a = int(input())\n",
    "    if a <= 0:\n",
    "        raise ValueError('Entered value is not positive!')\n",
    "except ValueError as error:\n",
    "    print('Inside except block implying error has been raised!')\n",
    "    print(error)\n",
    "finally:\n",
    "    print('Inside finally block!')"
   ]
  },
  {
   "cell_type": "markdown",
   "metadata": {},
   "source": [
    "# Chapter - 6 OOP in Python"
   ]
  },
  {
   "cell_type": "markdown",
   "metadata": {},
   "source": [
    "## 1. OOP Concepts"
   ]
  },
  {
   "cell_type": "markdown",
   "metadata": {},
   "source": [
    "### 1.1 What is OOP?"
   ]
  },
  {
   "cell_type": "markdown",
   "metadata": {},
   "source": [
    "Object-oriented programming (OOP) is a programming paradigm based on the concept of \"objects\", which can contain data and code: data in the form of fields (often known as attributes or properties), and code, in the form of procedures (often known as methods).\n",
    "\n",
    "Object-oriented programming (OOP) aims to implement real-world entities like inheritance, hiding, polymorphism etc in programming. \n",
    "\n",
    "Object-Oriented Programming is a methodology or paradigm to design a program using classes and objects.\n",
    "\n",
    "Unlike procedure-oriented programming, where the main emphasis is on functions, object-oriented programming stresses on objects.\n",
    "\n",
    "It simplifies software development and maintenance by providing some core concepts:\n",
    "- Object\n",
    "- Class\n",
    "- Inheritance\n",
    "- Polymorphism\n",
    "- Abstraction\n",
    "- Encapsulation"
   ]
  },
  {
   "cell_type": "markdown",
   "metadata": {},
   "source": [
    "Python is a multi-paradigm programming language. It supports different programming approaches.\n",
    "\n",
    "One of the popular approaches to solve a programming problem is by creating objects. This is known as Object-Oriented Programming (OOP).\n",
    "\n",
    "The concept of OOP in Python focuses on creating reusable code. This concept is also known as DRY (Don't Repeat Yourself)."
   ]
  },
  {
   "cell_type": "markdown",
   "metadata": {},
   "source": [
    "## 2. Class"
   ]
  },
  {
   "cell_type": "markdown",
   "metadata": {},
   "source": [
    "A class is a group of objects that have the same properties.\n",
    "\n",
    "It represents the set of properties or methods that are common to all objects of one type.\n",
    "\n",
    "A class is a blueprint for the object.\n",
    "\n",
    "A class is a logical entity not a physical entity."
   ]
  },
  {
   "cell_type": "markdown",
   "metadata": {},
   "source": [
    "- Classes provide a means of bundling data and functionality together. \n",
    "\n",
    "- Creating a new class creates a new type of object, allowing new instances of that type to be made. \n",
    "\n",
    "- Each class instance can have attributes attached to it for maintaining its state. \n",
    "\n",
    "- Class instances can also have methods (defined by their class) for modifying their state.\n",
    "\n",
    "- Class creates a user-defined data structure.\n",
    "\n",
    "- In Python, class definitions begin with a `class` keyword.\n",
    "\n",
    "- When class is defined, only the description for the object is defined. No memory or storage is allocated."
   ]
  },
  {
   "cell_type": "markdown",
   "metadata": {},
   "source": [
    "Classes can contain docstrings similar to functions."
   ]
  },
  {
   "cell_type": "code",
   "execution_count": null,
   "metadata": {},
   "outputs": [],
   "source": [
    "class MyNewClass:\n",
    "    '''This is a docstring. I have created a new class'''\n",
    "    pass"
   ]
  },
  {
   "cell_type": "markdown",
   "metadata": {},
   "source": [
    "The docstrings can also be accessed using the same way as for functions."
   ]
  },
  {
   "cell_type": "code",
   "execution_count": null,
   "metadata": {},
   "outputs": [],
   "source": [
    "MyNewClass.__doc__"
   ]
  },
  {
   "cell_type": "code",
   "execution_count": null,
   "metadata": {},
   "outputs": [],
   "source": [
    "help(MyNewClass)"
   ]
  },
  {
   "cell_type": "markdown",
   "metadata": {},
   "source": [
    "An example of a class that contains an attribute and a method is as follows..."
   ]
  },
  {
   "cell_type": "code",
   "execution_count": null,
   "metadata": {},
   "outputs": [],
   "source": [
    "class Person:\n",
    "    \"This is a person class\"\n",
    "    age = 10\n",
    "    \n",
    "    def greet(self):\n",
    "        print('Hello')\n",
    "\n",
    "\n",
    "print(Person.age)\n",
    "print(Person.greet)\n",
    "print(Person.__doc__)"
   ]
  },
  {
   "cell_type": "markdown",
   "metadata": {},
   "source": [
    "## 3. Objects (Instances)"
   ]
  },
  {
   "cell_type": "markdown",
   "metadata": {},
   "source": [
    "An object is simply a collection of data (variables) and methods (functions) that act on data.\n",
    "\n",
    "An object is also called an instance of a class and the process of creating this object is called **instantiation**.\n",
    "\n",
    "An object is allocated memory or storage.\n",
    "\n",
    "A class is like a blueprint while an instance is a copy of the class with *actual values*."
   ]
  },
  {
   "cell_type": "markdown",
   "metadata": {},
   "source": [
    "The procedure to create an object is similar to a function call."
   ]
  },
  {
   "cell_type": "code",
   "execution_count": null,
   "metadata": {},
   "outputs": [],
   "source": [
    "nikhil = Person()"
   ]
  },
  {
   "cell_type": "markdown",
   "metadata": {},
   "source": [
    "This will create a new object instance named harry. We can access the attributes of objects using the object name prefix.\n",
    "\n",
    "Attributes may be data or method. Methods of an object are corresponding functions of that class.\n",
    "\n",
    "This means to say, since `Person.greet` is a function object (attribute of class), `Person.greet` will be a method object."
   ]
  },
  {
   "cell_type": "code",
   "execution_count": null,
   "metadata": {},
   "outputs": [],
   "source": [
    "nikhil.age"
   ]
  },
  {
   "cell_type": "code",
   "execution_count": null,
   "metadata": {},
   "outputs": [],
   "source": [
    "nikhil.greet"
   ]
  },
  {
   "cell_type": "code",
   "execution_count": null,
   "metadata": {},
   "outputs": [],
   "source": [
    "nikhil.greet()"
   ]
  },
  {
   "cell_type": "markdown",
   "metadata": {},
   "source": [
    "### 3.1 self parameter"
   ]
  },
  {
   "cell_type": "markdown",
   "metadata": {},
   "source": [
    "You may have noticed the self parameter in function definition inside the class but we called the method simply as `harry.greet()` without any arguments. It still worked.\n",
    "\n",
    "This is because, whenever an object calls its method, the object itself is passed as the first argument. So, `harry.greet()` translates into `Person.greet(harry)`.\n",
    "\n",
    "In general, calling a method with a list of n arguments is equivalent to calling the corresponding function with an argument list that is created by inserting the method's object before the first argument.\n",
    "\n",
    "For these reasons, the first argument of the function in class must be the object itself. This is conventionally called self. It can be named otherwise but we highly recommend to follow the convention."
   ]
  },
  {
   "cell_type": "code",
   "execution_count": null,
   "metadata": {},
   "outputs": [],
   "source": [
    "Person.greet(nikhil)"
   ]
  },
  {
   "cell_type": "markdown",
   "metadata": {},
   "source": [
    "### 3.2 Constructors"
   ]
  },
  {
   "cell_type": "markdown",
   "metadata": {},
   "source": [
    "Class functions that begin with double underscore `__` are called special functions as they have special meaning.\n",
    "\n",
    "`__init__()` is a special function that gets called whenever a new object of that class is instantiated.\n",
    "\n",
    "This type of function is also called constructors in Object Oriented Programming (OOP). We normally use it to initialize all the variables."
   ]
  },
  {
   "cell_type": "markdown",
   "metadata": {},
   "source": [
    "Let's try to use `__init__()` method for our new Person class."
   ]
  },
  {
   "cell_type": "code",
   "execution_count": null,
   "metadata": {},
   "outputs": [],
   "source": [
    "class Person:\n",
    "\n",
    "    def __init__(self, name, age):\n",
    "        self.age = age\n",
    "        self.name = name\n",
    "\n",
    "    def greet(self):\n",
    "        print(f'Hello {self.name}!!')"
   ]
  },
  {
   "cell_type": "code",
   "execution_count": null,
   "metadata": {},
   "outputs": [],
   "source": [
    "manas = Person('Manas Rao', 20)"
   ]
  },
  {
   "cell_type": "code",
   "execution_count": null,
   "metadata": {},
   "outputs": [],
   "source": [
    "manas.age, manas.name"
   ]
  },
  {
   "cell_type": "code",
   "execution_count": null,
   "metadata": {},
   "outputs": [],
   "source": [
    "manas.greet()"
   ]
  },
  {
   "cell_type": "code",
   "execution_count": null,
   "metadata": {},
   "outputs": [],
   "source": [
    "Person.greet(manas)"
   ]
  },
  {
   "cell_type": "markdown",
   "metadata": {},
   "source": [
    "What happens if we don't pass in the parameters?"
   ]
  },
  {
   "cell_type": "code",
   "execution_count": null,
   "metadata": {},
   "outputs": [],
   "source": [
    "x = Person()"
   ]
  },
  {
   "cell_type": "markdown",
   "metadata": {},
   "source": [
    "Suppose, we want to create a person object without having to pass in parameters but use default parameters."
   ]
  },
  {
   "cell_type": "code",
   "execution_count": null,
   "metadata": {},
   "outputs": [],
   "source": [
    "class Person:\n",
    "\n",
    "    def __init__(self, name=\"Name\", age=0):\n",
    "        self.age = age\n",
    "        self.name = name\n",
    "\n",
    "    def greet(self):\n",
    "        print(f'Hello {self.name}!!')"
   ]
  },
  {
   "cell_type": "code",
   "execution_count": null,
   "metadata": {},
   "outputs": [],
   "source": [
    "x = Person()"
   ]
  },
  {
   "cell_type": "code",
   "execution_count": null,
   "metadata": {},
   "outputs": [],
   "source": [
    "x.name, x.age"
   ]
  },
  {
   "cell_type": "code",
   "execution_count": null,
   "metadata": {},
   "outputs": [],
   "source": [
    "x.greet()"
   ]
  },
  {
   "cell_type": "markdown",
   "metadata": {},
   "source": [
    "## 4. Class and Instance Variables"
   ]
  },
  {
   "cell_type": "markdown",
   "metadata": {},
   "source": [
    "Instance variables are for data, unique to each instance. \n",
    "\n",
    "Class variables are for attributes and methods shared by all instances of the class. \n",
    "\n",
    "Instance variables are variables whose value is assigned inside a constructor or method with self whereas class variables are variables whose value is assigned in the class."
   ]
  },
  {
   "cell_type": "markdown",
   "metadata": {},
   "source": [
    "Class variables are used for a property/attribute that is common to all objects of the class.\n",
    "\n",
    "Instance variables are used for attributes that are specific to a particular instance of a class."
   ]
  },
  {
   "cell_type": "code",
   "execution_count": null,
   "metadata": {},
   "outputs": [],
   "source": [
    "class Person:\n",
    "\n",
    "    # class variable\n",
    "    species = 'Homo Sapiens'\n",
    "\n",
    "    # Constructor\n",
    "    def __init__(self, name='Name', age=0):\n",
    "\n",
    "        # instance variables\n",
    "        self.name = name\n",
    "        self.age = age\n",
    "\n",
    "nikhil = Person('Nikhil Nandam', 21)\n",
    "manas = Person('Manas Rao', 21)"
   ]
  },
  {
   "cell_type": "markdown",
   "metadata": {},
   "source": [
    "### 4.1 Changing values of variables"
   ]
  },
  {
   "cell_type": "markdown",
   "metadata": {},
   "source": [
    "We can access the attributes of a class using the `.` (dot) operator.\n",
    "\n",
    "We can change the value of variables of a class using the `=` (equal to) operator."
   ]
  },
  {
   "cell_type": "code",
   "execution_count": null,
   "metadata": {},
   "outputs": [],
   "source": [
    "nikhil.species, nikhil.name, nikhil.age"
   ]
  },
  {
   "cell_type": "code",
   "execution_count": null,
   "metadata": {},
   "outputs": [],
   "source": [
    "manas.species, manas.name, manas.age"
   ]
  },
  {
   "cell_type": "code",
   "execution_count": null,
   "metadata": {},
   "outputs": [],
   "source": [
    "Person.species"
   ]
  },
  {
   "cell_type": "code",
   "execution_count": null,
   "metadata": {},
   "outputs": [],
   "source": [
    "Person.name"
   ]
  },
  {
   "cell_type": "code",
   "execution_count": null,
   "metadata": {},
   "outputs": [],
   "source": [
    "Person.age"
   ]
  },
  {
   "cell_type": "code",
   "execution_count": null,
   "metadata": {},
   "outputs": [],
   "source": [
    "nikhil.age = 22\n",
    "nikhil.age "
   ]
  },
  {
   "cell_type": "code",
   "execution_count": null,
   "metadata": {},
   "outputs": [],
   "source": [
    "manas.name = 'Sai Manas Rao'\n",
    "manas.name"
   ]
  },
  {
   "cell_type": "markdown",
   "metadata": {},
   "source": [
    "## 5. Deleting Attributes and Objects"
   ]
  },
  {
   "cell_type": "markdown",
   "metadata": {},
   "source": [
    "Any attribute of an object can be deleted anytime, using the `del` statement."
   ]
  },
  {
   "cell_type": "code",
   "execution_count": null,
   "metadata": {},
   "outputs": [],
   "source": [
    "del nikhil.age\n",
    "nikhil.age"
   ]
  },
  {
   "cell_type": "code",
   "execution_count": null,
   "metadata": {},
   "outputs": [],
   "source": [
    "nikhil.name"
   ]
  },
  {
   "cell_type": "code",
   "execution_count": null,
   "metadata": {},
   "outputs": [],
   "source": [
    "manas.age"
   ]
  },
  {
   "cell_type": "markdown",
   "metadata": {},
   "source": [
    "In the above cells, we only deleted `nikhil.age` which is an instance variable. Thus other attributes of the object nikhil are untouched as well all the other objects are also untouched."
   ]
  },
  {
   "cell_type": "code",
   "execution_count": null,
   "metadata": {},
   "outputs": [],
   "source": [
    "del Person.species"
   ]
  },
  {
   "cell_type": "code",
   "execution_count": null,
   "metadata": {},
   "outputs": [],
   "source": [
    "nikhil.species"
   ]
  },
  {
   "cell_type": "code",
   "execution_count": null,
   "metadata": {},
   "outputs": [],
   "source": [
    "manas.species"
   ]
  },
  {
   "cell_type": "markdown",
   "metadata": {},
   "source": [
    "Here we deleted a class variable. Thus all the objects of that class will lose the `species` variable."
   ]
  },
  {
   "cell_type": "markdown",
   "metadata": {},
   "source": [
    "`del` can be used to delete objects entirely."
   ]
  },
  {
   "cell_type": "code",
   "execution_count": null,
   "metadata": {},
   "outputs": [],
   "source": [
    "del nikhil"
   ]
  },
  {
   "cell_type": "code",
   "execution_count": null,
   "metadata": {},
   "outputs": [],
   "source": [
    "del manas"
   ]
  }
 ],
 "metadata": {
  "interpreter": {
   "hash": "aee8b7b246df8f9039afb4144a1f6fd8d2ca17a180786b69acc140d282b71a49"
  },
  "kernelspec": {
   "display_name": "Python 3",
   "language": "python",
   "name": "python3"
  },
  "language_info": {
   "codemirror_mode": {
    "name": "ipython",
    "version": 3
   },
   "file_extension": ".py",
   "mimetype": "text/x-python",
   "name": "python",
   "nbconvert_exporter": "python",
   "pygments_lexer": "ipython3",
   "version": "3.9.1"
  }
 },
 "nbformat": 4,
 "nbformat_minor": 2
}
